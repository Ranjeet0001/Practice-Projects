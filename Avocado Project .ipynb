{
 "cells": [
  {
   "cell_type": "markdown",
   "id": "cfa5d465",
   "metadata": {},
   "source": [
    "#### Ranjeet Kumar\n",
    "\n",
    "# Avocado Project\n"
   ]
  },
  {
   "cell_type": "markdown",
   "id": "9f572316",
   "metadata": {},
   "source": [
    "### Project Description"
   ]
  },
  {
   "cell_type": "markdown",
   "id": "8121f62e",
   "metadata": {},
   "source": [
    "This data was downloaded from the Hass Avocado Board website in May of 2018 & compiled into a single CSV. \n",
    "The table below represents weekly 2018 retail scan data for National retail volume (units) and price. Retail scan data comes directly from retailers’ cash registers based on actual retail sales of Hass avocados. \n",
    "Starting in 2013, the table below reflects an expanded, multi-outlet retail data set. Multi-outlet reporting includes an aggregation of the following channels: grocery, mass, club, drug, dollar and military. The Average Price (of avocados) in the table reflects a per unit (per avocado) cost, even when multiple units (avocados) are sold in bags. \n",
    "The Product Lookup codes (PLU’s) in the table are only for Hass avocados. Other varieties of avocados (e.g. greenskins) are not included in this table.\n",
    "\n"
   ]
  },
  {
   "cell_type": "markdown",
   "id": "b5bd12fc",
   "metadata": {},
   "source": [
    "Some relevant columns in the dataset:"
   ]
  },
  {
   "cell_type": "markdown",
   "id": "ad156e92",
   "metadata": {},
   "source": [
    "•\tDate - The date of the observation\n",
    "\n",
    "•\tAveragePrice - the average price of a single avocado\n",
    "\n",
    "•\ttype - conventional or organic\n",
    "\n",
    "•\tyear - the year\n",
    "\n",
    "•\tRegion - the city or region of the observation\n",
    "\n",
    "•\tTotal Volume - Total number of avocados sold\n",
    "\n",
    "•\t4046 - Total number of avocados with PLU 4046 sold\n",
    "\n",
    "•\t4225 - Total number of avocados with PLU 4225 sold\n",
    "\n",
    "•\t4770 - Total number of avocados with PLU 4770 sold\n"
   ]
  },
  {
   "cell_type": "markdown",
   "id": "1717be6a",
   "metadata": {},
   "source": [
    "#### Inspiration /Label "
   ]
  },
  {
   "cell_type": "markdown",
   "id": "b990471b",
   "metadata": {},
   "source": [
    "The dataset can be seen in two angles to find the region and find the average price .\n",
    "Task: One of Classification and other of Regression\n",
    "Do both tasks in the same .ipynb file and submit at single file. \n"
   ]
  },
  {
   "cell_type": "markdown",
   "id": "7a5fd489",
   "metadata": {},
   "source": [
    "## Dataset Link-"
   ]
  },
  {
   "cell_type": "markdown",
   "id": "5bb34e0e",
   "metadata": {},
   "source": [
    "•\thttps://github.com/dsrscientist/Data-Science-ML-Capstone-Projects/blob/master/avocado.csv.zip"
   ]
  },
  {
   "cell_type": "code",
   "execution_count": 2,
   "id": "6ea2fd8e",
   "metadata": {},
   "outputs": [
    {
     "data": {
      "text/html": [
       "<img src=\"https://wallpapercave.com/wp/wp5409496.jpg\"/>"
      ],
      "text/plain": [
       "<IPython.core.display.Image object>"
      ]
     },
     "execution_count": 2,
     "metadata": {},
     "output_type": "execute_result"
    }
   ],
   "source": [
    "from IPython.display import Image\n",
    "\n",
    "Image(url=\"https://wallpapercave.com/wp/wp5409496.jpg\")"
   ]
  },
  {
   "cell_type": "code",
   "execution_count": 3,
   "id": "0a9cce36",
   "metadata": {},
   "outputs": [],
   "source": [
    "import numpy as np\n",
    "import pandas as pd\n",
    "import seaborn as sns"
   ]
  },
  {
   "cell_type": "code",
   "execution_count": 4,
   "id": "3d99d3d2",
   "metadata": {},
   "outputs": [
    {
     "data": {
      "text/html": [
       "<div>\n",
       "<style scoped>\n",
       "    .dataframe tbody tr th:only-of-type {\n",
       "        vertical-align: middle;\n",
       "    }\n",
       "\n",
       "    .dataframe tbody tr th {\n",
       "        vertical-align: top;\n",
       "    }\n",
       "\n",
       "    .dataframe thead th {\n",
       "        text-align: right;\n",
       "    }\n",
       "</style>\n",
       "<table border=\"1\" class=\"dataframe\">\n",
       "  <thead>\n",
       "    <tr style=\"text-align: right;\">\n",
       "      <th></th>\n",
       "      <th>Unnamed: 0</th>\n",
       "      <th>Date</th>\n",
       "      <th>AveragePrice</th>\n",
       "      <th>Total Volume</th>\n",
       "      <th>4046</th>\n",
       "      <th>4225</th>\n",
       "      <th>4770</th>\n",
       "      <th>Total Bags</th>\n",
       "      <th>Small Bags</th>\n",
       "      <th>Large Bags</th>\n",
       "      <th>XLarge Bags</th>\n",
       "      <th>type</th>\n",
       "      <th>year</th>\n",
       "      <th>region</th>\n",
       "    </tr>\n",
       "  </thead>\n",
       "  <tbody>\n",
       "    <tr>\n",
       "      <th>0</th>\n",
       "      <td>0</td>\n",
       "      <td>2015-12-27</td>\n",
       "      <td>1.33</td>\n",
       "      <td>64236.62</td>\n",
       "      <td>1036.74</td>\n",
       "      <td>54454.85</td>\n",
       "      <td>48.16</td>\n",
       "      <td>8696.87</td>\n",
       "      <td>8603.62</td>\n",
       "      <td>93.25</td>\n",
       "      <td>0.0</td>\n",
       "      <td>conventional</td>\n",
       "      <td>2015</td>\n",
       "      <td>Albany</td>\n",
       "    </tr>\n",
       "    <tr>\n",
       "      <th>1</th>\n",
       "      <td>1</td>\n",
       "      <td>2015-12-20</td>\n",
       "      <td>1.35</td>\n",
       "      <td>54876.98</td>\n",
       "      <td>674.28</td>\n",
       "      <td>44638.81</td>\n",
       "      <td>58.33</td>\n",
       "      <td>9505.56</td>\n",
       "      <td>9408.07</td>\n",
       "      <td>97.49</td>\n",
       "      <td>0.0</td>\n",
       "      <td>conventional</td>\n",
       "      <td>2015</td>\n",
       "      <td>Albany</td>\n",
       "    </tr>\n",
       "    <tr>\n",
       "      <th>2</th>\n",
       "      <td>2</td>\n",
       "      <td>2015-12-13</td>\n",
       "      <td>0.93</td>\n",
       "      <td>118220.22</td>\n",
       "      <td>794.70</td>\n",
       "      <td>109149.67</td>\n",
       "      <td>130.50</td>\n",
       "      <td>8145.35</td>\n",
       "      <td>8042.21</td>\n",
       "      <td>103.14</td>\n",
       "      <td>0.0</td>\n",
       "      <td>conventional</td>\n",
       "      <td>2015</td>\n",
       "      <td>Albany</td>\n",
       "    </tr>\n",
       "    <tr>\n",
       "      <th>3</th>\n",
       "      <td>3</td>\n",
       "      <td>2015-12-06</td>\n",
       "      <td>1.08</td>\n",
       "      <td>78992.15</td>\n",
       "      <td>1132.00</td>\n",
       "      <td>71976.41</td>\n",
       "      <td>72.58</td>\n",
       "      <td>5811.16</td>\n",
       "      <td>5677.40</td>\n",
       "      <td>133.76</td>\n",
       "      <td>0.0</td>\n",
       "      <td>conventional</td>\n",
       "      <td>2015</td>\n",
       "      <td>Albany</td>\n",
       "    </tr>\n",
       "    <tr>\n",
       "      <th>4</th>\n",
       "      <td>4</td>\n",
       "      <td>2015-11-29</td>\n",
       "      <td>1.28</td>\n",
       "      <td>51039.60</td>\n",
       "      <td>941.48</td>\n",
       "      <td>43838.39</td>\n",
       "      <td>75.78</td>\n",
       "      <td>6183.95</td>\n",
       "      <td>5986.26</td>\n",
       "      <td>197.69</td>\n",
       "      <td>0.0</td>\n",
       "      <td>conventional</td>\n",
       "      <td>2015</td>\n",
       "      <td>Albany</td>\n",
       "    </tr>\n",
       "    <tr>\n",
       "      <th>5</th>\n",
       "      <td>5</td>\n",
       "      <td>2015-11-22</td>\n",
       "      <td>1.26</td>\n",
       "      <td>55979.78</td>\n",
       "      <td>1184.27</td>\n",
       "      <td>48067.99</td>\n",
       "      <td>43.61</td>\n",
       "      <td>6683.91</td>\n",
       "      <td>6556.47</td>\n",
       "      <td>127.44</td>\n",
       "      <td>0.0</td>\n",
       "      <td>conventional</td>\n",
       "      <td>2015</td>\n",
       "      <td>Albany</td>\n",
       "    </tr>\n",
       "    <tr>\n",
       "      <th>6</th>\n",
       "      <td>6</td>\n",
       "      <td>2015-11-15</td>\n",
       "      <td>0.99</td>\n",
       "      <td>83453.76</td>\n",
       "      <td>1368.92</td>\n",
       "      <td>73672.72</td>\n",
       "      <td>93.26</td>\n",
       "      <td>8318.86</td>\n",
       "      <td>8196.81</td>\n",
       "      <td>122.05</td>\n",
       "      <td>0.0</td>\n",
       "      <td>conventional</td>\n",
       "      <td>2015</td>\n",
       "      <td>Albany</td>\n",
       "    </tr>\n",
       "    <tr>\n",
       "      <th>7</th>\n",
       "      <td>7</td>\n",
       "      <td>2015-11-08</td>\n",
       "      <td>0.98</td>\n",
       "      <td>109428.33</td>\n",
       "      <td>703.75</td>\n",
       "      <td>101815.36</td>\n",
       "      <td>80.00</td>\n",
       "      <td>6829.22</td>\n",
       "      <td>6266.85</td>\n",
       "      <td>562.37</td>\n",
       "      <td>0.0</td>\n",
       "      <td>conventional</td>\n",
       "      <td>2015</td>\n",
       "      <td>Albany</td>\n",
       "    </tr>\n",
       "    <tr>\n",
       "      <th>8</th>\n",
       "      <td>8</td>\n",
       "      <td>2015-11-01</td>\n",
       "      <td>1.02</td>\n",
       "      <td>99811.42</td>\n",
       "      <td>1022.15</td>\n",
       "      <td>87315.57</td>\n",
       "      <td>85.34</td>\n",
       "      <td>11388.36</td>\n",
       "      <td>11104.53</td>\n",
       "      <td>283.83</td>\n",
       "      <td>0.0</td>\n",
       "      <td>conventional</td>\n",
       "      <td>2015</td>\n",
       "      <td>Albany</td>\n",
       "    </tr>\n",
       "    <tr>\n",
       "      <th>9</th>\n",
       "      <td>9</td>\n",
       "      <td>2015-10-25</td>\n",
       "      <td>1.07</td>\n",
       "      <td>74338.76</td>\n",
       "      <td>842.40</td>\n",
       "      <td>64757.44</td>\n",
       "      <td>113.00</td>\n",
       "      <td>8625.92</td>\n",
       "      <td>8061.47</td>\n",
       "      <td>564.45</td>\n",
       "      <td>0.0</td>\n",
       "      <td>conventional</td>\n",
       "      <td>2015</td>\n",
       "      <td>Albany</td>\n",
       "    </tr>\n",
       "  </tbody>\n",
       "</table>\n",
       "</div>"
      ],
      "text/plain": [
       "   Unnamed: 0        Date  AveragePrice  Total Volume     4046       4225  \\\n",
       "0           0  2015-12-27          1.33      64236.62  1036.74   54454.85   \n",
       "1           1  2015-12-20          1.35      54876.98   674.28   44638.81   \n",
       "2           2  2015-12-13          0.93     118220.22   794.70  109149.67   \n",
       "3           3  2015-12-06          1.08      78992.15  1132.00   71976.41   \n",
       "4           4  2015-11-29          1.28      51039.60   941.48   43838.39   \n",
       "5           5  2015-11-22          1.26      55979.78  1184.27   48067.99   \n",
       "6           6  2015-11-15          0.99      83453.76  1368.92   73672.72   \n",
       "7           7  2015-11-08          0.98     109428.33   703.75  101815.36   \n",
       "8           8  2015-11-01          1.02      99811.42  1022.15   87315.57   \n",
       "9           9  2015-10-25          1.07      74338.76   842.40   64757.44   \n",
       "\n",
       "     4770  Total Bags  Small Bags  Large Bags  XLarge Bags          type  \\\n",
       "0   48.16     8696.87     8603.62       93.25          0.0  conventional   \n",
       "1   58.33     9505.56     9408.07       97.49          0.0  conventional   \n",
       "2  130.50     8145.35     8042.21      103.14          0.0  conventional   \n",
       "3   72.58     5811.16     5677.40      133.76          0.0  conventional   \n",
       "4   75.78     6183.95     5986.26      197.69          0.0  conventional   \n",
       "5   43.61     6683.91     6556.47      127.44          0.0  conventional   \n",
       "6   93.26     8318.86     8196.81      122.05          0.0  conventional   \n",
       "7   80.00     6829.22     6266.85      562.37          0.0  conventional   \n",
       "8   85.34    11388.36    11104.53      283.83          0.0  conventional   \n",
       "9  113.00     8625.92     8061.47      564.45          0.0  conventional   \n",
       "\n",
       "   year  region  \n",
       "0  2015  Albany  \n",
       "1  2015  Albany  \n",
       "2  2015  Albany  \n",
       "3  2015  Albany  \n",
       "4  2015  Albany  \n",
       "5  2015  Albany  \n",
       "6  2015  Albany  \n",
       "7  2015  Albany  \n",
       "8  2015  Albany  \n",
       "9  2015  Albany  "
      ]
     },
     "execution_count": 4,
     "metadata": {},
     "output_type": "execute_result"
    }
   ],
   "source": [
    "df= pd.read_csv('C:\\\\Users\\\\91770\\\\Downloads\\\\avocado.csv.zip')\n",
    "df.head(10)"
   ]
  },
  {
   "cell_type": "code",
   "execution_count": 5,
   "id": "fe100bed",
   "metadata": {},
   "outputs": [
    {
     "data": {
      "text/plain": [
       "(18249, 14)"
      ]
     },
     "execution_count": 5,
     "metadata": {},
     "output_type": "execute_result"
    }
   ],
   "source": [
    "df.shape"
   ]
  },
  {
   "cell_type": "code",
   "execution_count": 6,
   "id": "63ac3a90",
   "metadata": {},
   "outputs": [
    {
     "data": {
      "text/html": [
       "<div>\n",
       "<style scoped>\n",
       "    .dataframe tbody tr th:only-of-type {\n",
       "        vertical-align: middle;\n",
       "    }\n",
       "\n",
       "    .dataframe tbody tr th {\n",
       "        vertical-align: top;\n",
       "    }\n",
       "\n",
       "    .dataframe thead th {\n",
       "        text-align: right;\n",
       "    }\n",
       "</style>\n",
       "<table border=\"1\" class=\"dataframe\">\n",
       "  <thead>\n",
       "    <tr style=\"text-align: right;\">\n",
       "      <th></th>\n",
       "      <th>Unnamed: 0</th>\n",
       "      <th>AveragePrice</th>\n",
       "      <th>Total Volume</th>\n",
       "      <th>4046</th>\n",
       "      <th>4225</th>\n",
       "      <th>4770</th>\n",
       "      <th>Total Bags</th>\n",
       "      <th>Small Bags</th>\n",
       "      <th>Large Bags</th>\n",
       "      <th>XLarge Bags</th>\n",
       "      <th>year</th>\n",
       "    </tr>\n",
       "  </thead>\n",
       "  <tbody>\n",
       "    <tr>\n",
       "      <th>count</th>\n",
       "      <td>18249.000000</td>\n",
       "      <td>18249.000000</td>\n",
       "      <td>1.824900e+04</td>\n",
       "      <td>1.824900e+04</td>\n",
       "      <td>1.824900e+04</td>\n",
       "      <td>1.824900e+04</td>\n",
       "      <td>1.824900e+04</td>\n",
       "      <td>1.824900e+04</td>\n",
       "      <td>1.824900e+04</td>\n",
       "      <td>18249.000000</td>\n",
       "      <td>18249.000000</td>\n",
       "    </tr>\n",
       "    <tr>\n",
       "      <th>mean</th>\n",
       "      <td>24.232232</td>\n",
       "      <td>1.405978</td>\n",
       "      <td>8.506440e+05</td>\n",
       "      <td>2.930084e+05</td>\n",
       "      <td>2.951546e+05</td>\n",
       "      <td>2.283974e+04</td>\n",
       "      <td>2.396392e+05</td>\n",
       "      <td>1.821947e+05</td>\n",
       "      <td>5.433809e+04</td>\n",
       "      <td>3106.426507</td>\n",
       "      <td>2016.147899</td>\n",
       "    </tr>\n",
       "    <tr>\n",
       "      <th>std</th>\n",
       "      <td>15.481045</td>\n",
       "      <td>0.402677</td>\n",
       "      <td>3.453545e+06</td>\n",
       "      <td>1.264989e+06</td>\n",
       "      <td>1.204120e+06</td>\n",
       "      <td>1.074641e+05</td>\n",
       "      <td>9.862424e+05</td>\n",
       "      <td>7.461785e+05</td>\n",
       "      <td>2.439660e+05</td>\n",
       "      <td>17692.894652</td>\n",
       "      <td>0.939938</td>\n",
       "    </tr>\n",
       "    <tr>\n",
       "      <th>min</th>\n",
       "      <td>0.000000</td>\n",
       "      <td>0.440000</td>\n",
       "      <td>8.456000e+01</td>\n",
       "      <td>0.000000e+00</td>\n",
       "      <td>0.000000e+00</td>\n",
       "      <td>0.000000e+00</td>\n",
       "      <td>0.000000e+00</td>\n",
       "      <td>0.000000e+00</td>\n",
       "      <td>0.000000e+00</td>\n",
       "      <td>0.000000</td>\n",
       "      <td>2015.000000</td>\n",
       "    </tr>\n",
       "    <tr>\n",
       "      <th>25%</th>\n",
       "      <td>10.000000</td>\n",
       "      <td>1.100000</td>\n",
       "      <td>1.083858e+04</td>\n",
       "      <td>8.540700e+02</td>\n",
       "      <td>3.008780e+03</td>\n",
       "      <td>0.000000e+00</td>\n",
       "      <td>5.088640e+03</td>\n",
       "      <td>2.849420e+03</td>\n",
       "      <td>1.274700e+02</td>\n",
       "      <td>0.000000</td>\n",
       "      <td>2015.000000</td>\n",
       "    </tr>\n",
       "    <tr>\n",
       "      <th>50%</th>\n",
       "      <td>24.000000</td>\n",
       "      <td>1.370000</td>\n",
       "      <td>1.073768e+05</td>\n",
       "      <td>8.645300e+03</td>\n",
       "      <td>2.906102e+04</td>\n",
       "      <td>1.849900e+02</td>\n",
       "      <td>3.974383e+04</td>\n",
       "      <td>2.636282e+04</td>\n",
       "      <td>2.647710e+03</td>\n",
       "      <td>0.000000</td>\n",
       "      <td>2016.000000</td>\n",
       "    </tr>\n",
       "    <tr>\n",
       "      <th>75%</th>\n",
       "      <td>38.000000</td>\n",
       "      <td>1.660000</td>\n",
       "      <td>4.329623e+05</td>\n",
       "      <td>1.110202e+05</td>\n",
       "      <td>1.502069e+05</td>\n",
       "      <td>6.243420e+03</td>\n",
       "      <td>1.107834e+05</td>\n",
       "      <td>8.333767e+04</td>\n",
       "      <td>2.202925e+04</td>\n",
       "      <td>132.500000</td>\n",
       "      <td>2017.000000</td>\n",
       "    </tr>\n",
       "    <tr>\n",
       "      <th>max</th>\n",
       "      <td>52.000000</td>\n",
       "      <td>3.250000</td>\n",
       "      <td>6.250565e+07</td>\n",
       "      <td>2.274362e+07</td>\n",
       "      <td>2.047057e+07</td>\n",
       "      <td>2.546439e+06</td>\n",
       "      <td>1.937313e+07</td>\n",
       "      <td>1.338459e+07</td>\n",
       "      <td>5.719097e+06</td>\n",
       "      <td>551693.650000</td>\n",
       "      <td>2018.000000</td>\n",
       "    </tr>\n",
       "  </tbody>\n",
       "</table>\n",
       "</div>"
      ],
      "text/plain": [
       "         Unnamed: 0  AveragePrice  Total Volume          4046          4225  \\\n",
       "count  18249.000000  18249.000000  1.824900e+04  1.824900e+04  1.824900e+04   \n",
       "mean      24.232232      1.405978  8.506440e+05  2.930084e+05  2.951546e+05   \n",
       "std       15.481045      0.402677  3.453545e+06  1.264989e+06  1.204120e+06   \n",
       "min        0.000000      0.440000  8.456000e+01  0.000000e+00  0.000000e+00   \n",
       "25%       10.000000      1.100000  1.083858e+04  8.540700e+02  3.008780e+03   \n",
       "50%       24.000000      1.370000  1.073768e+05  8.645300e+03  2.906102e+04   \n",
       "75%       38.000000      1.660000  4.329623e+05  1.110202e+05  1.502069e+05   \n",
       "max       52.000000      3.250000  6.250565e+07  2.274362e+07  2.047057e+07   \n",
       "\n",
       "               4770    Total Bags    Small Bags    Large Bags    XLarge Bags  \\\n",
       "count  1.824900e+04  1.824900e+04  1.824900e+04  1.824900e+04   18249.000000   \n",
       "mean   2.283974e+04  2.396392e+05  1.821947e+05  5.433809e+04    3106.426507   \n",
       "std    1.074641e+05  9.862424e+05  7.461785e+05  2.439660e+05   17692.894652   \n",
       "min    0.000000e+00  0.000000e+00  0.000000e+00  0.000000e+00       0.000000   \n",
       "25%    0.000000e+00  5.088640e+03  2.849420e+03  1.274700e+02       0.000000   \n",
       "50%    1.849900e+02  3.974383e+04  2.636282e+04  2.647710e+03       0.000000   \n",
       "75%    6.243420e+03  1.107834e+05  8.333767e+04  2.202925e+04     132.500000   \n",
       "max    2.546439e+06  1.937313e+07  1.338459e+07  5.719097e+06  551693.650000   \n",
       "\n",
       "               year  \n",
       "count  18249.000000  \n",
       "mean    2016.147899  \n",
       "std        0.939938  \n",
       "min     2015.000000  \n",
       "25%     2015.000000  \n",
       "50%     2016.000000  \n",
       "75%     2017.000000  \n",
       "max     2018.000000  "
      ]
     },
     "execution_count": 6,
     "metadata": {},
     "output_type": "execute_result"
    }
   ],
   "source": [
    "df.describe()"
   ]
  },
  {
   "cell_type": "code",
   "execution_count": 7,
   "id": "da3396d2",
   "metadata": {},
   "outputs": [
    {
     "data": {
      "text/plain": [
       "Unnamed: 0      0\n",
       "Date            0\n",
       "AveragePrice    0\n",
       "Total Volume    0\n",
       "4046            0\n",
       "4225            0\n",
       "4770            0\n",
       "Total Bags      0\n",
       "Small Bags      0\n",
       "Large Bags      0\n",
       "XLarge Bags     0\n",
       "type            0\n",
       "year            0\n",
       "region          0\n",
       "dtype: int64"
      ]
     },
     "execution_count": 7,
     "metadata": {},
     "output_type": "execute_result"
    }
   ],
   "source": [
    "#checking for null values\n",
    "df.isnull().sum()"
   ]
  },
  {
   "cell_type": "code",
   "execution_count": 8,
   "id": "8be8a528",
   "metadata": {},
   "outputs": [
    {
     "name": "stdout",
     "output_type": "stream",
     "text": [
      "<class 'pandas.core.frame.DataFrame'>\n",
      "RangeIndex: 18249 entries, 0 to 18248\n",
      "Data columns (total 14 columns):\n",
      " #   Column        Non-Null Count  Dtype  \n",
      "---  ------        --------------  -----  \n",
      " 0   Unnamed: 0    18249 non-null  int64  \n",
      " 1   Date          18249 non-null  object \n",
      " 2   AveragePrice  18249 non-null  float64\n",
      " 3   Total Volume  18249 non-null  float64\n",
      " 4   4046          18249 non-null  float64\n",
      " 5   4225          18249 non-null  float64\n",
      " 6   4770          18249 non-null  float64\n",
      " 7   Total Bags    18249 non-null  float64\n",
      " 8   Small Bags    18249 non-null  float64\n",
      " 9   Large Bags    18249 non-null  float64\n",
      " 10  XLarge Bags   18249 non-null  float64\n",
      " 11  type          18249 non-null  object \n",
      " 12  year          18249 non-null  int64  \n",
      " 13  region        18249 non-null  object \n",
      "dtypes: float64(9), int64(2), object(3)\n",
      "memory usage: 1.9+ MB\n"
     ]
    }
   ],
   "source": [
    "df.info()"
   ]
  },
  {
   "cell_type": "code",
   "execution_count": 9,
   "id": "fcbe1b1c",
   "metadata": {},
   "outputs": [
    {
     "data": {
      "text/plain": [
       "<AxesSubplot:>"
      ]
     },
     "execution_count": 9,
     "metadata": {},
     "output_type": "execute_result"
    },
    {
     "data": {
      "image/png": "[encoded data removed]",
      "text/plain": [
       "<Figure size 640x480 with 2 Axes>"
      ]
     },
     "metadata": {},
     "output_type": "display_data"
    }
   ],
   "source": [
    "sns.heatmap(df.isnull())"
   ]
  },
  {
   "cell_type": "code",
   "execution_count": 10,
   "id": "35c7da11",
   "metadata": {},
   "outputs": [
    {
     "data": {
      "text/plain": [
       "(18249, 14)"
      ]
     },
     "execution_count": 10,
     "metadata": {},
     "output_type": "execute_result"
    }
   ],
   "source": [
    "df.dropna(inplace=True)\n",
    "df.shape"
   ]
  },
  {
   "cell_type": "code",
   "execution_count": 11,
   "id": "4348b402",
   "metadata": {},
   "outputs": [
    {
     "name": "stdout",
     "output_type": "stream",
     "text": [
      "<class 'pandas.core.frame.DataFrame'>\n",
      "RangeIndex: 18249 entries, 0 to 18248\n",
      "Data columns (total 14 columns):\n",
      " #   Column        Non-Null Count  Dtype  \n",
      "---  ------        --------------  -----  \n",
      " 0   Unnamed: 0    18249 non-null  int64  \n",
      " 1   Date          18249 non-null  object \n",
      " 2   AveragePrice  18249 non-null  float64\n",
      " 3   Total Volume  18249 non-null  float64\n",
      " 4   4046          18249 non-null  float64\n",
      " 5   4225          18249 non-null  float64\n",
      " 6   4770          18249 non-null  float64\n",
      " 7   Total Bags    18249 non-null  float64\n",
      " 8   Small Bags    18249 non-null  float64\n",
      " 9   Large Bags    18249 non-null  float64\n",
      " 10  XLarge Bags   18249 non-null  float64\n",
      " 11  type          18249 non-null  object \n",
      " 12  year          18249 non-null  int64  \n",
      " 13  region        18249 non-null  object \n",
      "dtypes: float64(9), int64(2), object(3)\n",
      "memory usage: 1.9+ MB\n"
     ]
    }
   ],
   "source": [
    "df.info()"
   ]
  },
  {
   "cell_type": "code",
   "execution_count": 12,
   "id": "2896b1fc",
   "metadata": {},
   "outputs": [
    {
     "data": {
      "text/html": [
       "<div>\n",
       "<style scoped>\n",
       "    .dataframe tbody tr th:only-of-type {\n",
       "        vertical-align: middle;\n",
       "    }\n",
       "\n",
       "    .dataframe tbody tr th {\n",
       "        vertical-align: top;\n",
       "    }\n",
       "\n",
       "    .dataframe thead th {\n",
       "        text-align: right;\n",
       "    }\n",
       "</style>\n",
       "<table border=\"1\" class=\"dataframe\">\n",
       "  <thead>\n",
       "    <tr style=\"text-align: right;\">\n",
       "      <th></th>\n",
       "      <th>Unnamed: 0</th>\n",
       "      <th>AveragePrice</th>\n",
       "      <th>Total Volume</th>\n",
       "      <th>4046</th>\n",
       "      <th>4225</th>\n",
       "      <th>4770</th>\n",
       "      <th>Total Bags</th>\n",
       "      <th>Small Bags</th>\n",
       "      <th>Large Bags</th>\n",
       "      <th>XLarge Bags</th>\n",
       "      <th>year</th>\n",
       "    </tr>\n",
       "  </thead>\n",
       "  <tbody>\n",
       "    <tr>\n",
       "      <th>count</th>\n",
       "      <td>18249.000000</td>\n",
       "      <td>18249.000000</td>\n",
       "      <td>1.824900e+04</td>\n",
       "      <td>1.824900e+04</td>\n",
       "      <td>1.824900e+04</td>\n",
       "      <td>1.824900e+04</td>\n",
       "      <td>1.824900e+04</td>\n",
       "      <td>1.824900e+04</td>\n",
       "      <td>1.824900e+04</td>\n",
       "      <td>18249.000000</td>\n",
       "      <td>18249.000000</td>\n",
       "    </tr>\n",
       "    <tr>\n",
       "      <th>mean</th>\n",
       "      <td>24.232232</td>\n",
       "      <td>1.405978</td>\n",
       "      <td>8.506440e+05</td>\n",
       "      <td>2.930084e+05</td>\n",
       "      <td>2.951546e+05</td>\n",
       "      <td>2.283974e+04</td>\n",
       "      <td>2.396392e+05</td>\n",
       "      <td>1.821947e+05</td>\n",
       "      <td>5.433809e+04</td>\n",
       "      <td>3106.426507</td>\n",
       "      <td>2016.147899</td>\n",
       "    </tr>\n",
       "    <tr>\n",
       "      <th>std</th>\n",
       "      <td>15.481045</td>\n",
       "      <td>0.402677</td>\n",
       "      <td>3.453545e+06</td>\n",
       "      <td>1.264989e+06</td>\n",
       "      <td>1.204120e+06</td>\n",
       "      <td>1.074641e+05</td>\n",
       "      <td>9.862424e+05</td>\n",
       "      <td>7.461785e+05</td>\n",
       "      <td>2.439660e+05</td>\n",
       "      <td>17692.894652</td>\n",
       "      <td>0.939938</td>\n",
       "    </tr>\n",
       "    <tr>\n",
       "      <th>min</th>\n",
       "      <td>0.000000</td>\n",
       "      <td>0.440000</td>\n",
       "      <td>8.456000e+01</td>\n",
       "      <td>0.000000e+00</td>\n",
       "      <td>0.000000e+00</td>\n",
       "      <td>0.000000e+00</td>\n",
       "      <td>0.000000e+00</td>\n",
       "      <td>0.000000e+00</td>\n",
       "      <td>0.000000e+00</td>\n",
       "      <td>0.000000</td>\n",
       "      <td>2015.000000</td>\n",
       "    </tr>\n",
       "    <tr>\n",
       "      <th>25%</th>\n",
       "      <td>10.000000</td>\n",
       "      <td>1.100000</td>\n",
       "      <td>1.083858e+04</td>\n",
       "      <td>8.540700e+02</td>\n",
       "      <td>3.008780e+03</td>\n",
       "      <td>0.000000e+00</td>\n",
       "      <td>5.088640e+03</td>\n",
       "      <td>2.849420e+03</td>\n",
       "      <td>1.274700e+02</td>\n",
       "      <td>0.000000</td>\n",
       "      <td>2015.000000</td>\n",
       "    </tr>\n",
       "    <tr>\n",
       "      <th>50%</th>\n",
       "      <td>24.000000</td>\n",
       "      <td>1.370000</td>\n",
       "      <td>1.073768e+05</td>\n",
       "      <td>8.645300e+03</td>\n",
       "      <td>2.906102e+04</td>\n",
       "      <td>1.849900e+02</td>\n",
       "      <td>3.974383e+04</td>\n",
       "      <td>2.636282e+04</td>\n",
       "      <td>2.647710e+03</td>\n",
       "      <td>0.000000</td>\n",
       "      <td>2016.000000</td>\n",
       "    </tr>\n",
       "    <tr>\n",
       "      <th>75%</th>\n",
       "      <td>38.000000</td>\n",
       "      <td>1.660000</td>\n",
       "      <td>4.329623e+05</td>\n",
       "      <td>1.110202e+05</td>\n",
       "      <td>1.502069e+05</td>\n",
       "      <td>6.243420e+03</td>\n",
       "      <td>1.107834e+05</td>\n",
       "      <td>8.333767e+04</td>\n",
       "      <td>2.202925e+04</td>\n",
       "      <td>132.500000</td>\n",
       "      <td>2017.000000</td>\n",
       "    </tr>\n",
       "    <tr>\n",
       "      <th>max</th>\n",
       "      <td>52.000000</td>\n",
       "      <td>3.250000</td>\n",
       "      <td>6.250565e+07</td>\n",
       "      <td>2.274362e+07</td>\n",
       "      <td>2.047057e+07</td>\n",
       "      <td>2.546439e+06</td>\n",
       "      <td>1.937313e+07</td>\n",
       "      <td>1.338459e+07</td>\n",
       "      <td>5.719097e+06</td>\n",
       "      <td>551693.650000</td>\n",
       "      <td>2018.000000</td>\n",
       "    </tr>\n",
       "  </tbody>\n",
       "</table>\n",
       "</div>"
      ],
      "text/plain": [
       "         Unnamed: 0  AveragePrice  Total Volume          4046          4225  \\\n",
       "count  18249.000000  18249.000000  1.824900e+04  1.824900e+04  1.824900e+04   \n",
       "mean      24.232232      1.405978  8.506440e+05  2.930084e+05  2.951546e+05   \n",
       "std       15.481045      0.402677  3.453545e+06  1.264989e+06  1.204120e+06   \n",
       "min        0.000000      0.440000  8.456000e+01  0.000000e+00  0.000000e+00   \n",
       "25%       10.000000      1.100000  1.083858e+04  8.540700e+02  3.008780e+03   \n",
       "50%       24.000000      1.370000  1.073768e+05  8.645300e+03  2.906102e+04   \n",
       "75%       38.000000      1.660000  4.329623e+05  1.110202e+05  1.502069e+05   \n",
       "max       52.000000      3.250000  6.250565e+07  2.274362e+07  2.047057e+07   \n",
       "\n",
       "               4770    Total Bags    Small Bags    Large Bags    XLarge Bags  \\\n",
       "count  1.824900e+04  1.824900e+04  1.824900e+04  1.824900e+04   18249.000000   \n",
       "mean   2.283974e+04  2.396392e+05  1.821947e+05  5.433809e+04    3106.426507   \n",
       "std    1.074641e+05  9.862424e+05  7.461785e+05  2.439660e+05   17692.894652   \n",
       "min    0.000000e+00  0.000000e+00  0.000000e+00  0.000000e+00       0.000000   \n",
       "25%    0.000000e+00  5.088640e+03  2.849420e+03  1.274700e+02       0.000000   \n",
       "50%    1.849900e+02  3.974383e+04  2.636282e+04  2.647710e+03       0.000000   \n",
       "75%    6.243420e+03  1.107834e+05  8.333767e+04  2.202925e+04     132.500000   \n",
       "max    2.546439e+06  1.937313e+07  1.338459e+07  5.719097e+06  551693.650000   \n",
       "\n",
       "               year  \n",
       "count  18249.000000  \n",
       "mean    2016.147899  \n",
       "std        0.939938  \n",
       "min     2015.000000  \n",
       "25%     2015.000000  \n",
       "50%     2016.000000  \n",
       "75%     2017.000000  \n",
       "max     2018.000000  "
      ]
     },
     "execution_count": 12,
     "metadata": {},
     "output_type": "execute_result"
    }
   ],
   "source": [
    "df.describe()"
   ]
  },
  {
   "cell_type": "code",
   "execution_count": 13,
   "id": "8869caf4",
   "metadata": {},
   "outputs": [],
   "source": [
    "df.drop(['Unnamed: 0','XLarge Bags','Small Bags','Total Bags','Large Bags'], axis=1, inplace=True)"
   ]
  },
  {
   "cell_type": "code",
   "execution_count": 14,
   "id": "226cefa5",
   "metadata": {},
   "outputs": [
    {
     "data": {
      "text/plain": [
       "(18249, 9)"
      ]
     },
     "execution_count": 14,
     "metadata": {},
     "output_type": "execute_result"
    }
   ],
   "source": [
    "df.shape"
   ]
  },
  {
   "cell_type": "code",
   "execution_count": 15,
   "id": "9dbdfc0f",
   "metadata": {},
   "outputs": [
    {
     "data": {
      "text/html": [
       "<div>\n",
       "<style scoped>\n",
       "    .dataframe tbody tr th:only-of-type {\n",
       "        vertical-align: middle;\n",
       "    }\n",
       "\n",
       "    .dataframe tbody tr th {\n",
       "        vertical-align: top;\n",
       "    }\n",
       "\n",
       "    .dataframe thead th {\n",
       "        text-align: right;\n",
       "    }\n",
       "</style>\n",
       "<table border=\"1\" class=\"dataframe\">\n",
       "  <thead>\n",
       "    <tr style=\"text-align: right;\">\n",
       "      <th></th>\n",
       "      <th>AveragePrice</th>\n",
       "      <th>Total Volume</th>\n",
       "      <th>4046</th>\n",
       "      <th>4225</th>\n",
       "      <th>4770</th>\n",
       "      <th>year</th>\n",
       "    </tr>\n",
       "  </thead>\n",
       "  <tbody>\n",
       "    <tr>\n",
       "      <th>count</th>\n",
       "      <td>18249.000000</td>\n",
       "      <td>1.824900e+04</td>\n",
       "      <td>1.824900e+04</td>\n",
       "      <td>1.824900e+04</td>\n",
       "      <td>1.824900e+04</td>\n",
       "      <td>18249.000000</td>\n",
       "    </tr>\n",
       "    <tr>\n",
       "      <th>mean</th>\n",
       "      <td>1.405978</td>\n",
       "      <td>8.506440e+05</td>\n",
       "      <td>2.930084e+05</td>\n",
       "      <td>2.951546e+05</td>\n",
       "      <td>2.283974e+04</td>\n",
       "      <td>2016.147899</td>\n",
       "    </tr>\n",
       "    <tr>\n",
       "      <th>std</th>\n",
       "      <td>0.402677</td>\n",
       "      <td>3.453545e+06</td>\n",
       "      <td>1.264989e+06</td>\n",
       "      <td>1.204120e+06</td>\n",
       "      <td>1.074641e+05</td>\n",
       "      <td>0.939938</td>\n",
       "    </tr>\n",
       "    <tr>\n",
       "      <th>min</th>\n",
       "      <td>0.440000</td>\n",
       "      <td>8.456000e+01</td>\n",
       "      <td>0.000000e+00</td>\n",
       "      <td>0.000000e+00</td>\n",
       "      <td>0.000000e+00</td>\n",
       "      <td>2015.000000</td>\n",
       "    </tr>\n",
       "    <tr>\n",
       "      <th>25%</th>\n",
       "      <td>1.100000</td>\n",
       "      <td>1.083858e+04</td>\n",
       "      <td>8.540700e+02</td>\n",
       "      <td>3.008780e+03</td>\n",
       "      <td>0.000000e+00</td>\n",
       "      <td>2015.000000</td>\n",
       "    </tr>\n",
       "    <tr>\n",
       "      <th>50%</th>\n",
       "      <td>1.370000</td>\n",
       "      <td>1.073768e+05</td>\n",
       "      <td>8.645300e+03</td>\n",
       "      <td>2.906102e+04</td>\n",
       "      <td>1.849900e+02</td>\n",
       "      <td>2016.000000</td>\n",
       "    </tr>\n",
       "    <tr>\n",
       "      <th>75%</th>\n",
       "      <td>1.660000</td>\n",
       "      <td>4.329623e+05</td>\n",
       "      <td>1.110202e+05</td>\n",
       "      <td>1.502069e+05</td>\n",
       "      <td>6.243420e+03</td>\n",
       "      <td>2017.000000</td>\n",
       "    </tr>\n",
       "    <tr>\n",
       "      <th>max</th>\n",
       "      <td>3.250000</td>\n",
       "      <td>6.250565e+07</td>\n",
       "      <td>2.274362e+07</td>\n",
       "      <td>2.047057e+07</td>\n",
       "      <td>2.546439e+06</td>\n",
       "      <td>2018.000000</td>\n",
       "    </tr>\n",
       "  </tbody>\n",
       "</table>\n",
       "</div>"
      ],
      "text/plain": [
       "       AveragePrice  Total Volume          4046          4225          4770  \\\n",
       "count  18249.000000  1.824900e+04  1.824900e+04  1.824900e+04  1.824900e+04   \n",
       "mean       1.405978  8.506440e+05  2.930084e+05  2.951546e+05  2.283974e+04   \n",
       "std        0.402677  3.453545e+06  1.264989e+06  1.204120e+06  1.074641e+05   \n",
       "min        0.440000  8.456000e+01  0.000000e+00  0.000000e+00  0.000000e+00   \n",
       "25%        1.100000  1.083858e+04  8.540700e+02  3.008780e+03  0.000000e+00   \n",
       "50%        1.370000  1.073768e+05  8.645300e+03  2.906102e+04  1.849900e+02   \n",
       "75%        1.660000  4.329623e+05  1.110202e+05  1.502069e+05  6.243420e+03   \n",
       "max        3.250000  6.250565e+07  2.274362e+07  2.047057e+07  2.546439e+06   \n",
       "\n",
       "               year  \n",
       "count  18249.000000  \n",
       "mean    2016.147899  \n",
       "std        0.939938  \n",
       "min     2015.000000  \n",
       "25%     2015.000000  \n",
       "50%     2016.000000  \n",
       "75%     2017.000000  \n",
       "max     2018.000000  "
      ]
     },
     "execution_count": 15,
     "metadata": {},
     "output_type": "execute_result"
    }
   ],
   "source": [
    "df.describe()"
   ]
  },
  {
   "cell_type": "code",
   "execution_count": 16,
   "id": "ad9890e7",
   "metadata": {},
   "outputs": [
    {
     "data": {
      "text/html": [
       "<div>\n",
       "<style scoped>\n",
       "    .dataframe tbody tr th:only-of-type {\n",
       "        vertical-align: middle;\n",
       "    }\n",
       "\n",
       "    .dataframe tbody tr th {\n",
       "        vertical-align: top;\n",
       "    }\n",
       "\n",
       "    .dataframe thead th {\n",
       "        text-align: right;\n",
       "    }\n",
       "</style>\n",
       "<table border=\"1\" class=\"dataframe\">\n",
       "  <thead>\n",
       "    <tr style=\"text-align: right;\">\n",
       "      <th></th>\n",
       "      <th>Date</th>\n",
       "      <th>AveragePrice</th>\n",
       "      <th>Total Volume</th>\n",
       "      <th>4046</th>\n",
       "      <th>4225</th>\n",
       "      <th>4770</th>\n",
       "      <th>type</th>\n",
       "      <th>year</th>\n",
       "      <th>region</th>\n",
       "    </tr>\n",
       "  </thead>\n",
       "  <tbody>\n",
       "    <tr>\n",
       "      <th>0</th>\n",
       "      <td>2015-12-27</td>\n",
       "      <td>1.33</td>\n",
       "      <td>64236.62</td>\n",
       "      <td>1036.74</td>\n",
       "      <td>54454.85</td>\n",
       "      <td>48.16</td>\n",
       "      <td>conventional</td>\n",
       "      <td>2015</td>\n",
       "      <td>Albany</td>\n",
       "    </tr>\n",
       "    <tr>\n",
       "      <th>1</th>\n",
       "      <td>2015-12-20</td>\n",
       "      <td>1.35</td>\n",
       "      <td>54876.98</td>\n",
       "      <td>674.28</td>\n",
       "      <td>44638.81</td>\n",
       "      <td>58.33</td>\n",
       "      <td>conventional</td>\n",
       "      <td>2015</td>\n",
       "      <td>Albany</td>\n",
       "    </tr>\n",
       "    <tr>\n",
       "      <th>2</th>\n",
       "      <td>2015-12-13</td>\n",
       "      <td>0.93</td>\n",
       "      <td>118220.22</td>\n",
       "      <td>794.70</td>\n",
       "      <td>109149.67</td>\n",
       "      <td>130.50</td>\n",
       "      <td>conventional</td>\n",
       "      <td>2015</td>\n",
       "      <td>Albany</td>\n",
       "    </tr>\n",
       "    <tr>\n",
       "      <th>3</th>\n",
       "      <td>2015-12-06</td>\n",
       "      <td>1.08</td>\n",
       "      <td>78992.15</td>\n",
       "      <td>1132.00</td>\n",
       "      <td>71976.41</td>\n",
       "      <td>72.58</td>\n",
       "      <td>conventional</td>\n",
       "      <td>2015</td>\n",
       "      <td>Albany</td>\n",
       "    </tr>\n",
       "    <tr>\n",
       "      <th>4</th>\n",
       "      <td>2015-11-29</td>\n",
       "      <td>1.28</td>\n",
       "      <td>51039.60</td>\n",
       "      <td>941.48</td>\n",
       "      <td>43838.39</td>\n",
       "      <td>75.78</td>\n",
       "      <td>conventional</td>\n",
       "      <td>2015</td>\n",
       "      <td>Albany</td>\n",
       "    </tr>\n",
       "  </tbody>\n",
       "</table>\n",
       "</div>"
      ],
      "text/plain": [
       "         Date  AveragePrice  Total Volume     4046       4225    4770  \\\n",
       "0  2015-12-27          1.33      64236.62  1036.74   54454.85   48.16   \n",
       "1  2015-12-20          1.35      54876.98   674.28   44638.81   58.33   \n",
       "2  2015-12-13          0.93     118220.22   794.70  109149.67  130.50   \n",
       "3  2015-12-06          1.08      78992.15  1132.00   71976.41   72.58   \n",
       "4  2015-11-29          1.28      51039.60   941.48   43838.39   75.78   \n",
       "\n",
       "           type  year  region  \n",
       "0  conventional  2015  Albany  \n",
       "1  conventional  2015  Albany  \n",
       "2  conventional  2015  Albany  \n",
       "3  conventional  2015  Albany  \n",
       "4  conventional  2015  Albany  "
      ]
     },
     "execution_count": 16,
     "metadata": {},
     "output_type": "execute_result"
    }
   ],
   "source": [
    "df.head()"
   ]
  },
  {
   "cell_type": "code",
   "execution_count": 17,
   "id": "e20a7fa5",
   "metadata": {},
   "outputs": [],
   "source": [
    "df[['Date','Month','Year']] = df['Date'].str.split(\"-\",expand = True)"
   ]
  },
  {
   "cell_type": "code",
   "execution_count": 18,
   "id": "7ad0407b",
   "metadata": {},
   "outputs": [],
   "source": [
    "df[['Date','Month','Year']] = df[['Date','Month','Year']].astype(int)"
   ]
  },
  {
   "cell_type": "code",
   "execution_count": 19,
   "id": "db53290c",
   "metadata": {},
   "outputs": [
    {
     "data": {
      "text/html": [
       "<div>\n",
       "<style scoped>\n",
       "    .dataframe tbody tr th:only-of-type {\n",
       "        vertical-align: middle;\n",
       "    }\n",
       "\n",
       "    .dataframe tbody tr th {\n",
       "        vertical-align: top;\n",
       "    }\n",
       "\n",
       "    .dataframe thead th {\n",
       "        text-align: right;\n",
       "    }\n",
       "</style>\n",
       "<table border=\"1\" class=\"dataframe\">\n",
       "  <thead>\n",
       "    <tr style=\"text-align: right;\">\n",
       "      <th></th>\n",
       "      <th>Date</th>\n",
       "      <th>AveragePrice</th>\n",
       "      <th>Total Volume</th>\n",
       "      <th>4046</th>\n",
       "      <th>4225</th>\n",
       "      <th>4770</th>\n",
       "      <th>type</th>\n",
       "      <th>year</th>\n",
       "      <th>region</th>\n",
       "      <th>Month</th>\n",
       "      <th>Year</th>\n",
       "    </tr>\n",
       "  </thead>\n",
       "  <tbody>\n",
       "    <tr>\n",
       "      <th>0</th>\n",
       "      <td>2015</td>\n",
       "      <td>1.33</td>\n",
       "      <td>64236.62</td>\n",
       "      <td>1036.74</td>\n",
       "      <td>54454.85</td>\n",
       "      <td>48.16</td>\n",
       "      <td>conventional</td>\n",
       "      <td>2015</td>\n",
       "      <td>Albany</td>\n",
       "      <td>12</td>\n",
       "      <td>27</td>\n",
       "    </tr>\n",
       "    <tr>\n",
       "      <th>1</th>\n",
       "      <td>2015</td>\n",
       "      <td>1.35</td>\n",
       "      <td>54876.98</td>\n",
       "      <td>674.28</td>\n",
       "      <td>44638.81</td>\n",
       "      <td>58.33</td>\n",
       "      <td>conventional</td>\n",
       "      <td>2015</td>\n",
       "      <td>Albany</td>\n",
       "      <td>12</td>\n",
       "      <td>20</td>\n",
       "    </tr>\n",
       "    <tr>\n",
       "      <th>2</th>\n",
       "      <td>2015</td>\n",
       "      <td>0.93</td>\n",
       "      <td>118220.22</td>\n",
       "      <td>794.70</td>\n",
       "      <td>109149.67</td>\n",
       "      <td>130.50</td>\n",
       "      <td>conventional</td>\n",
       "      <td>2015</td>\n",
       "      <td>Albany</td>\n",
       "      <td>12</td>\n",
       "      <td>13</td>\n",
       "    </tr>\n",
       "    <tr>\n",
       "      <th>3</th>\n",
       "      <td>2015</td>\n",
       "      <td>1.08</td>\n",
       "      <td>78992.15</td>\n",
       "      <td>1132.00</td>\n",
       "      <td>71976.41</td>\n",
       "      <td>72.58</td>\n",
       "      <td>conventional</td>\n",
       "      <td>2015</td>\n",
       "      <td>Albany</td>\n",
       "      <td>12</td>\n",
       "      <td>6</td>\n",
       "    </tr>\n",
       "    <tr>\n",
       "      <th>4</th>\n",
       "      <td>2015</td>\n",
       "      <td>1.28</td>\n",
       "      <td>51039.60</td>\n",
       "      <td>941.48</td>\n",
       "      <td>43838.39</td>\n",
       "      <td>75.78</td>\n",
       "      <td>conventional</td>\n",
       "      <td>2015</td>\n",
       "      <td>Albany</td>\n",
       "      <td>11</td>\n",
       "      <td>29</td>\n",
       "    </tr>\n",
       "  </tbody>\n",
       "</table>\n",
       "</div>"
      ],
      "text/plain": [
       "   Date  AveragePrice  Total Volume     4046       4225    4770          type  \\\n",
       "0  2015          1.33      64236.62  1036.74   54454.85   48.16  conventional   \n",
       "1  2015          1.35      54876.98   674.28   44638.81   58.33  conventional   \n",
       "2  2015          0.93     118220.22   794.70  109149.67  130.50  conventional   \n",
       "3  2015          1.08      78992.15  1132.00   71976.41   72.58  conventional   \n",
       "4  2015          1.28      51039.60   941.48   43838.39   75.78  conventional   \n",
       "\n",
       "   year  region  Month  Year  \n",
       "0  2015  Albany     12    27  \n",
       "1  2015  Albany     12    20  \n",
       "2  2015  Albany     12    13  \n",
       "3  2015  Albany     12     6  \n",
       "4  2015  Albany     11    29  "
      ]
     },
     "execution_count": 19,
     "metadata": {},
     "output_type": "execute_result"
    }
   ],
   "source": [
    "df.head()"
   ]
  },
  {
   "cell_type": "code",
   "execution_count": 20,
   "id": "741daa5c",
   "metadata": {},
   "outputs": [
    {
     "data": {
      "text/plain": [
       "4     756\n",
       "11    756\n",
       "18    755\n",
       "25    755\n",
       "1     648\n",
       "26    648\n",
       "5     648\n",
       "12    648\n",
       "3     648\n",
       "8     648\n",
       "15    648\n",
       "22    648\n",
       "24    648\n",
       "17    648\n",
       "10    648\n",
       "19    648\n",
       "7     540\n",
       "14    540\n",
       "21    540\n",
       "28    540\n",
       "27    540\n",
       "20    540\n",
       "29    540\n",
       "13    540\n",
       "6     539\n",
       "2     432\n",
       "9     432\n",
       "23    432\n",
       "30    432\n",
       "31    432\n",
       "16    432\n",
       "Name: Year, dtype: int64"
      ]
     },
     "execution_count": 20,
     "metadata": {},
     "output_type": "execute_result"
    }
   ],
   "source": [
    "df['Year'].value_counts()"
   ]
  },
  {
   "cell_type": "code",
   "execution_count": 21,
   "id": "bfbc5f32",
   "metadata": {},
   "outputs": [
    {
     "data": {
      "text/plain": [
       "2017    5722\n",
       "2016    5616\n",
       "2015    5615\n",
       "2018    1296\n",
       "Name: year, dtype: int64"
      ]
     },
     "execution_count": 21,
     "metadata": {},
     "output_type": "execute_result"
    }
   ],
   "source": [
    "df['year'].value_counts()"
   ]
  },
  {
   "cell_type": "code",
   "execution_count": 22,
   "id": "90b62480",
   "metadata": {},
   "outputs": [],
   "source": [
    "df.drop(['year'],axis=1, inplace=True)"
   ]
  },
  {
   "cell_type": "code",
   "execution_count": 23,
   "id": "fd99caa2",
   "metadata": {},
   "outputs": [
    {
     "data": {
      "text/plain": [
       "2"
      ]
     },
     "execution_count": 23,
     "metadata": {},
     "output_type": "execute_result"
    }
   ],
   "source": [
    "df['type'].nunique()"
   ]
  },
  {
   "cell_type": "code",
   "execution_count": 24,
   "id": "d7d74bdd",
   "metadata": {},
   "outputs": [],
   "source": [
    "df.drop(['type'],axis=1, inplace=True)"
   ]
  },
  {
   "cell_type": "code",
   "execution_count": 25,
   "id": "27133bf1",
   "metadata": {},
   "outputs": [
    {
     "data": {
      "text/plain": [
       "54"
      ]
     },
     "execution_count": 25,
     "metadata": {},
     "output_type": "execute_result"
    }
   ],
   "source": [
    "df['region'].nunique()"
   ]
  },
  {
   "cell_type": "code",
   "execution_count": 26,
   "id": "0f580544",
   "metadata": {},
   "outputs": [
    {
     "name": "stdout",
     "output_type": "stream",
     "text": [
      "<class 'pandas.core.frame.DataFrame'>\n",
      "RangeIndex: 18249 entries, 0 to 18248\n",
      "Data columns (total 9 columns):\n",
      " #   Column        Non-Null Count  Dtype  \n",
      "---  ------        --------------  -----  \n",
      " 0   Date          18249 non-null  int32  \n",
      " 1   AveragePrice  18249 non-null  float64\n",
      " 2   Total Volume  18249 non-null  float64\n",
      " 3   4046          18249 non-null  float64\n",
      " 4   4225          18249 non-null  float64\n",
      " 5   4770          18249 non-null  float64\n",
      " 6   region        18249 non-null  object \n",
      " 7   Month         18249 non-null  int32  \n",
      " 8   Year          18249 non-null  int32  \n",
      "dtypes: float64(5), int32(3), object(1)\n",
      "memory usage: 1.0+ MB\n"
     ]
    }
   ],
   "source": [
    "df.info()"
   ]
  },
  {
   "cell_type": "markdown",
   "id": "9fb9f0dc",
   "metadata": {},
   "source": [
    "## Now out data is ready for  work"
   ]
  },
  {
   "cell_type": "code",
   "execution_count": 27,
   "id": "81d120f8",
   "metadata": {},
   "outputs": [],
   "source": [
    "from scipy.stats import skew\n",
    "import matplotlib.pyplot as plt\n",
    "import warnings\n",
    "warnings.filterwarnings('ignore')"
   ]
  },
  {
   "cell_type": "code",
   "execution_count": 28,
   "id": "e732274d",
   "metadata": {},
   "outputs": [
    {
     "data": {
      "text/html": [
       "<div>\n",
       "<style scoped>\n",
       "    .dataframe tbody tr th:only-of-type {\n",
       "        vertical-align: middle;\n",
       "    }\n",
       "\n",
       "    .dataframe tbody tr th {\n",
       "        vertical-align: top;\n",
       "    }\n",
       "\n",
       "    .dataframe thead th {\n",
       "        text-align: right;\n",
       "    }\n",
       "</style>\n",
       "<table border=\"1\" class=\"dataframe\">\n",
       "  <thead>\n",
       "    <tr style=\"text-align: right;\">\n",
       "      <th></th>\n",
       "      <th>Date</th>\n",
       "      <th>AveragePrice</th>\n",
       "      <th>Total Volume</th>\n",
       "      <th>4046</th>\n",
       "      <th>4225</th>\n",
       "      <th>4770</th>\n",
       "      <th>region</th>\n",
       "      <th>Month</th>\n",
       "      <th>Year</th>\n",
       "    </tr>\n",
       "  </thead>\n",
       "  <tbody>\n",
       "    <tr>\n",
       "      <th>0</th>\n",
       "      <td>2015</td>\n",
       "      <td>1.33</td>\n",
       "      <td>64236.62</td>\n",
       "      <td>1036.74</td>\n",
       "      <td>54454.85</td>\n",
       "      <td>48.16</td>\n",
       "      <td>Albany</td>\n",
       "      <td>12</td>\n",
       "      <td>27</td>\n",
       "    </tr>\n",
       "    <tr>\n",
       "      <th>1</th>\n",
       "      <td>2015</td>\n",
       "      <td>1.35</td>\n",
       "      <td>54876.98</td>\n",
       "      <td>674.28</td>\n",
       "      <td>44638.81</td>\n",
       "      <td>58.33</td>\n",
       "      <td>Albany</td>\n",
       "      <td>12</td>\n",
       "      <td>20</td>\n",
       "    </tr>\n",
       "    <tr>\n",
       "      <th>2</th>\n",
       "      <td>2015</td>\n",
       "      <td>0.93</td>\n",
       "      <td>118220.22</td>\n",
       "      <td>794.70</td>\n",
       "      <td>109149.67</td>\n",
       "      <td>130.50</td>\n",
       "      <td>Albany</td>\n",
       "      <td>12</td>\n",
       "      <td>13</td>\n",
       "    </tr>\n",
       "    <tr>\n",
       "      <th>3</th>\n",
       "      <td>2015</td>\n",
       "      <td>1.08</td>\n",
       "      <td>78992.15</td>\n",
       "      <td>1132.00</td>\n",
       "      <td>71976.41</td>\n",
       "      <td>72.58</td>\n",
       "      <td>Albany</td>\n",
       "      <td>12</td>\n",
       "      <td>6</td>\n",
       "    </tr>\n",
       "    <tr>\n",
       "      <th>4</th>\n",
       "      <td>2015</td>\n",
       "      <td>1.28</td>\n",
       "      <td>51039.60</td>\n",
       "      <td>941.48</td>\n",
       "      <td>43838.39</td>\n",
       "      <td>75.78</td>\n",
       "      <td>Albany</td>\n",
       "      <td>11</td>\n",
       "      <td>29</td>\n",
       "    </tr>\n",
       "  </tbody>\n",
       "</table>\n",
       "</div>"
      ],
      "text/plain": [
       "   Date  AveragePrice  Total Volume     4046       4225    4770  region  \\\n",
       "0  2015          1.33      64236.62  1036.74   54454.85   48.16  Albany   \n",
       "1  2015          1.35      54876.98   674.28   44638.81   58.33  Albany   \n",
       "2  2015          0.93     118220.22   794.70  109149.67  130.50  Albany   \n",
       "3  2015          1.08      78992.15  1132.00   71976.41   72.58  Albany   \n",
       "4  2015          1.28      51039.60   941.48   43838.39   75.78  Albany   \n",
       "\n",
       "   Month  Year  \n",
       "0     12    27  \n",
       "1     12    20  \n",
       "2     12    13  \n",
       "3     12     6  \n",
       "4     11    29  "
      ]
     },
     "execution_count": 28,
     "metadata": {},
     "output_type": "execute_result"
    }
   ],
   "source": [
    "df.head()"
   ]
  },
  {
   "cell_type": "code",
   "execution_count": 29,
   "id": "cb435d80",
   "metadata": {},
   "outputs": [
    {
     "data": {
      "text/html": [
       "<div>\n",
       "<style scoped>\n",
       "    .dataframe tbody tr th:only-of-type {\n",
       "        vertical-align: middle;\n",
       "    }\n",
       "\n",
       "    .dataframe tbody tr th {\n",
       "        vertical-align: top;\n",
       "    }\n",
       "\n",
       "    .dataframe thead th {\n",
       "        text-align: right;\n",
       "    }\n",
       "</style>\n",
       "<table border=\"1\" class=\"dataframe\">\n",
       "  <thead>\n",
       "    <tr style=\"text-align: right;\">\n",
       "      <th></th>\n",
       "      <th>Date</th>\n",
       "      <th>AveragePrice</th>\n",
       "      <th>Total Volume</th>\n",
       "      <th>4046</th>\n",
       "      <th>4225</th>\n",
       "      <th>4770</th>\n",
       "      <th>Month</th>\n",
       "      <th>Year</th>\n",
       "    </tr>\n",
       "  </thead>\n",
       "  <tbody>\n",
       "    <tr>\n",
       "      <th>Date</th>\n",
       "      <td>1.000000</td>\n",
       "      <td>0.093197</td>\n",
       "      <td>0.017193</td>\n",
       "      <td>0.003353</td>\n",
       "      <td>-0.009559</td>\n",
       "      <td>-0.036531</td>\n",
       "      <td>-0.177050</td>\n",
       "      <td>0.004475</td>\n",
       "    </tr>\n",
       "    <tr>\n",
       "      <th>AveragePrice</th>\n",
       "      <td>0.093197</td>\n",
       "      <td>1.000000</td>\n",
       "      <td>-0.192752</td>\n",
       "      <td>-0.208317</td>\n",
       "      <td>-0.172928</td>\n",
       "      <td>-0.179446</td>\n",
       "      <td>0.162409</td>\n",
       "      <td>0.027386</td>\n",
       "    </tr>\n",
       "    <tr>\n",
       "      <th>Total Volume</th>\n",
       "      <td>0.017193</td>\n",
       "      <td>-0.192752</td>\n",
       "      <td>1.000000</td>\n",
       "      <td>0.977863</td>\n",
       "      <td>0.974181</td>\n",
       "      <td>0.872202</td>\n",
       "      <td>-0.024689</td>\n",
       "      <td>-0.009747</td>\n",
       "    </tr>\n",
       "    <tr>\n",
       "      <th>4046</th>\n",
       "      <td>0.003353</td>\n",
       "      <td>-0.208317</td>\n",
       "      <td>0.977863</td>\n",
       "      <td>1.000000</td>\n",
       "      <td>0.926110</td>\n",
       "      <td>0.833389</td>\n",
       "      <td>-0.025803</td>\n",
       "      <td>-0.010159</td>\n",
       "    </tr>\n",
       "    <tr>\n",
       "      <th>4225</th>\n",
       "      <td>-0.009559</td>\n",
       "      <td>-0.172928</td>\n",
       "      <td>0.974181</td>\n",
       "      <td>0.926110</td>\n",
       "      <td>1.000000</td>\n",
       "      <td>0.887855</td>\n",
       "      <td>-0.022108</td>\n",
       "      <td>-0.012393</td>\n",
       "    </tr>\n",
       "    <tr>\n",
       "      <th>4770</th>\n",
       "      <td>-0.036531</td>\n",
       "      <td>-0.179446</td>\n",
       "      <td>0.872202</td>\n",
       "      <td>0.833389</td>\n",
       "      <td>0.887855</td>\n",
       "      <td>1.000000</td>\n",
       "      <td>-0.033424</td>\n",
       "      <td>-0.009009</td>\n",
       "    </tr>\n",
       "    <tr>\n",
       "      <th>Month</th>\n",
       "      <td>-0.177050</td>\n",
       "      <td>0.162409</td>\n",
       "      <td>-0.024689</td>\n",
       "      <td>-0.025803</td>\n",
       "      <td>-0.022108</td>\n",
       "      <td>-0.033424</td>\n",
       "      <td>1.000000</td>\n",
       "      <td>0.010621</td>\n",
       "    </tr>\n",
       "    <tr>\n",
       "      <th>Year</th>\n",
       "      <td>0.004475</td>\n",
       "      <td>0.027386</td>\n",
       "      <td>-0.009747</td>\n",
       "      <td>-0.010159</td>\n",
       "      <td>-0.012393</td>\n",
       "      <td>-0.009009</td>\n",
       "      <td>0.010621</td>\n",
       "      <td>1.000000</td>\n",
       "    </tr>\n",
       "  </tbody>\n",
       "</table>\n",
       "</div>"
      ],
      "text/plain": [
       "                  Date  AveragePrice  Total Volume      4046      4225  \\\n",
       "Date          1.000000      0.093197      0.017193  0.003353 -0.009559   \n",
       "AveragePrice  0.093197      1.000000     -0.192752 -0.208317 -0.172928   \n",
       "Total Volume  0.017193     -0.192752      1.000000  0.977863  0.974181   \n",
       "4046          0.003353     -0.208317      0.977863  1.000000  0.926110   \n",
       "4225         -0.009559     -0.172928      0.974181  0.926110  1.000000   \n",
       "4770         -0.036531     -0.179446      0.872202  0.833389  0.887855   \n",
       "Month        -0.177050      0.162409     -0.024689 -0.025803 -0.022108   \n",
       "Year          0.004475      0.027386     -0.009747 -0.010159 -0.012393   \n",
       "\n",
       "                  4770     Month      Year  \n",
       "Date         -0.036531 -0.177050  0.004475  \n",
       "AveragePrice -0.179446  0.162409  0.027386  \n",
       "Total Volume  0.872202 -0.024689 -0.009747  \n",
       "4046          0.833389 -0.025803 -0.010159  \n",
       "4225          0.887855 -0.022108 -0.012393  \n",
       "4770          1.000000 -0.033424 -0.009009  \n",
       "Month        -0.033424  1.000000  0.010621  \n",
       "Year         -0.009009  0.010621  1.000000  "
      ]
     },
     "execution_count": 29,
     "metadata": {},
     "output_type": "execute_result"
    }
   ],
   "source": [
    "df.corr()"
   ]
  },
  {
   "cell_type": "code",
   "execution_count": 30,
   "id": "29ccab1e",
   "metadata": {},
   "outputs": [
    {
     "data": {
      "text/plain": [
       "<AxesSubplot:>"
      ]
     },
     "execution_count": 30,
     "metadata": {},
     "output_type": "execute_result"
    },
    {
     "data": {
      "image/png": "[encoded data removed]",
      "text/plain": [
       "<Figure size 2000x700 with 2 Axes>"
      ]
     },
     "metadata": {},
     "output_type": "display_data"
    }
   ],
   "source": [
    "plt.figure(figsize=(20,7))\n",
    "sns.heatmap(df.corr(),annot=True,linewidths=1,linecolor='white',cmap='magma')"
   ]
  },
  {
   "cell_type": "code",
   "execution_count": 31,
   "id": "d616782c",
   "metadata": {},
   "outputs": [
    {
     "data": {
      "text/plain": [
       "<AxesSubplot:xlabel='Date', ylabel='Count'>"
      ]
     },
     "execution_count": 31,
     "metadata": {},
     "output_type": "execute_result"
    },
    {
     "data": {
      "image/png": "[encoded data removed]",
      "text/plain": [
       "<Figure size 1000x500 with 1 Axes>"
      ]
     },
     "metadata": {},
     "output_type": "display_data"
    }
   ],
   "source": [
    "plt.figure(figsize=(10,5))\n",
    "sns.histplot(df['Date'], bins=30)"
   ]
  },
  {
   "cell_type": "code",
   "execution_count": 32,
   "id": "7e63cccb",
   "metadata": {},
   "outputs": [
    {
     "data": {
      "image/png": "[encoded data removed]",
      "text/plain": [
       "<Figure size 1000x500 with 1 Axes>"
      ]
     },
     "metadata": {},
     "output_type": "display_data"
    }
   ],
   "source": [
    "plt.figure(figsize=(10,5))\n",
    "plt.scatter(df['AveragePrice'],df['Total Volume'],c='Red')\n",
    "plt.xlabel('The average price of a single avacado')\n",
    "plt.ylabel('Total number of avacado sold')\n",
    "plt.show()"
   ]
  },
  {
   "cell_type": "code",
   "execution_count": 33,
   "id": "689bf459",
   "metadata": {},
   "outputs": [
    {
     "data": {
      "image/png": "[encoded data removed]",
      "text/plain": [
       "<Figure size 1000x500 with 1 Axes>"
      ]
     },
     "metadata": {},
     "output_type": "display_data"
    }
   ],
   "source": [
    "plt.figure(figsize=(10,5))\n",
    "plt.scatter(df['AveragePrice'],df['4225'],c='Red')\n",
    "plt.xlabel('The average price of a single avacado')\n",
    "plt.ylabel('Total number of avacado with PLU 4225 sold')\n",
    "plt.show()"
   ]
  },
  {
   "cell_type": "code",
   "execution_count": 34,
   "id": "529e59a5",
   "metadata": {},
   "outputs": [
    {
     "data": {
      "image/png": "[encoded data removed]",
      "text/plain": [
       "<Figure size 1000x500 with 1 Axes>"
      ]
     },
     "metadata": {},
     "output_type": "display_data"
    }
   ],
   "source": [
    "\n",
    "plt.figure(figsize=(10,5))\n",
    "plt.scatter(df['AveragePrice'],df['4046'],c='Red')\n",
    "plt.xlabel('The average price of a single avacado')\n",
    "plt.ylabel('Total number of avacado with PLU 4046 sold')\n",
    "plt.show()"
   ]
  },
  {
   "cell_type": "code",
   "execution_count": 35,
   "id": "1a03d6a2",
   "metadata": {},
   "outputs": [
    {
     "data": {
      "image/png": "[encoded data removed]",
      "text/plain": [
       "<Figure size 1000x500 with 1 Axes>"
      ]
     },
     "metadata": {},
     "output_type": "display_data"
    }
   ],
   "source": [
    "plt.figure(figsize=(10,5))\n",
    "plt.scatter(df['AveragePrice'],df['4770'],c='Red')\n",
    "plt.xlabel('The average price of a single avacado')\n",
    "plt.ylabel('Total number of avacado with PLU 4770 sold')\n",
    "plt.show()"
   ]
  },
  {
   "cell_type": "code",
   "execution_count": 36,
   "id": "68ff4a23",
   "metadata": {},
   "outputs": [
    {
     "data": {
      "text/plain": [
       "<AxesSubplot:xlabel='Year', ylabel='count'>"
      ]
     },
     "execution_count": 36,
     "metadata": {},
     "output_type": "execute_result"
    },
    {
     "data": {
      "image/png": "[encoded data removed]",
      "text/plain": [
       "<Figure size 640x480 with 1 Axes>"
      ]
     },
     "metadata": {},
     "output_type": "display_data"
    }
   ],
   "source": [
    "sns.countplot(x='Year',data=df)"
   ]
  },
  {
   "cell_type": "code",
   "execution_count": 37,
   "id": "26f17585",
   "metadata": {},
   "outputs": [
    {
     "data": {
      "text/plain": [
       "<AxesSubplot:xlabel='Month', ylabel='count'>"
      ]
     },
     "execution_count": 37,
     "metadata": {},
     "output_type": "execute_result"
    },
    {
     "data": {
      "image/png": "[encoded data removed]",
      "text/plain": [
       "<Figure size 640x480 with 1 Axes>"
      ]
     },
     "metadata": {},
     "output_type": "display_data"
    }
   ],
   "source": [
    "sns.countplot(x='Month',data=df)"
   ]
  },
  {
   "cell_type": "markdown",
   "id": "87d9c2ab",
   "metadata": {},
   "source": [
    "# using LabelEncoder for converting categorical to numerical"
   ]
  },
  {
   "cell_type": "code",
   "execution_count": 38,
   "id": "0a4ac970",
   "metadata": {},
   "outputs": [
    {
     "name": "stdout",
     "output_type": "stream",
     "text": [
      "<class 'pandas.core.frame.DataFrame'>\n",
      "RangeIndex: 18249 entries, 0 to 18248\n",
      "Data columns (total 9 columns):\n",
      " #   Column        Non-Null Count  Dtype  \n",
      "---  ------        --------------  -----  \n",
      " 0   Date          18249 non-null  int32  \n",
      " 1   AveragePrice  18249 non-null  float64\n",
      " 2   Total Volume  18249 non-null  float64\n",
      " 3   4046          18249 non-null  float64\n",
      " 4   4225          18249 non-null  float64\n",
      " 5   4770          18249 non-null  float64\n",
      " 6   region        18249 non-null  object \n",
      " 7   Month         18249 non-null  int32  \n",
      " 8   Year          18249 non-null  int32  \n",
      "dtypes: float64(5), int32(3), object(1)\n",
      "memory usage: 1.0+ MB\n"
     ]
    }
   ],
   "source": [
    "df.info()"
   ]
  },
  {
   "cell_type": "code",
   "execution_count": 39,
   "id": "9fb3c1a2",
   "metadata": {},
   "outputs": [],
   "source": [
    "from sklearn import preprocessing \n",
    "le = preprocessing.LabelEncoder()\n",
    "df['region']=le.fit_transform(df['region'])"
   ]
  },
  {
   "cell_type": "code",
   "execution_count": 40,
   "id": "ae319453",
   "metadata": {},
   "outputs": [
    {
     "name": "stdout",
     "output_type": "stream",
     "text": [
      "<class 'pandas.core.frame.DataFrame'>\n",
      "RangeIndex: 18249 entries, 0 to 18248\n",
      "Data columns (total 9 columns):\n",
      " #   Column        Non-Null Count  Dtype  \n",
      "---  ------        --------------  -----  \n",
      " 0   Date          18249 non-null  int32  \n",
      " 1   AveragePrice  18249 non-null  float64\n",
      " 2   Total Volume  18249 non-null  float64\n",
      " 3   4046          18249 non-null  float64\n",
      " 4   4225          18249 non-null  float64\n",
      " 5   4770          18249 non-null  float64\n",
      " 6   region        18249 non-null  int32  \n",
      " 7   Month         18249 non-null  int32  \n",
      " 8   Year          18249 non-null  int32  \n",
      "dtypes: float64(5), int32(4)\n",
      "memory usage: 998.1 KB\n"
     ]
    }
   ],
   "source": [
    "df.info()"
   ]
  },
  {
   "cell_type": "markdown",
   "id": "a173f402",
   "metadata": {},
   "source": [
    "# Skewness handling"
   ]
  },
  {
   "cell_type": "code",
   "execution_count": 41,
   "id": "8df9dc4e",
   "metadata": {},
   "outputs": [
    {
     "data": {
      "image/png": "[encoded data removed]",
      "text/plain": [
       "<Figure size 2500x2000 with 9 Axes>"
      ]
     },
     "metadata": {},
     "output_type": "display_data"
    }
   ],
   "source": [
    "plt.figure(figsize=(25,20))\n",
    "for i in enumerate(df.columns):\n",
    "    plt.subplot(5,3,i[0]+1)\n",
    "    sns.distplot(df[i[1]],color='g')"
   ]
  },
  {
   "cell_type": "code",
   "execution_count": 42,
   "id": "454e70ee",
   "metadata": {},
   "outputs": [
    {
     "data": {
      "text/plain": [
       "Date             0.215339\n",
       "AveragePrice     0.580303\n",
       "Total Volume     9.007687\n",
       "4046             8.648220\n",
       "4225             8.942466\n",
       "4770            10.159396\n",
       "region           0.000030\n",
       "Month            0.106617\n",
       "Year             0.014310\n",
       "dtype: float64"
      ]
     },
     "execution_count": 42,
     "metadata": {},
     "output_type": "execute_result"
    }
   ],
   "source": [
    "df.skew()"
   ]
  },
  {
   "cell_type": "code",
   "execution_count": 43,
   "id": "e7feb234",
   "metadata": {},
   "outputs": [],
   "source": [
    "from sklearn.preprocessing import power_transform\n",
    "\n",
    "df[['Total Volume','4046','4225','4770']]=power_transform(df[['Total Volume','4046','4225','4770']],method='yeo-johnson')"
   ]
  },
  {
   "cell_type": "code",
   "execution_count": 44,
   "id": "0340f978",
   "metadata": {},
   "outputs": [
    {
     "data": {
      "text/plain": [
       "Date            0.215339\n",
       "AveragePrice    0.580303\n",
       "Total Volume    0.011171\n",
       "4046           -0.022679\n",
       "4225           -0.017740\n",
       "4770            0.032184\n",
       "region          0.000030\n",
       "Month           0.106617\n",
       "Year            0.014310\n",
       "dtype: float64"
      ]
     },
     "execution_count": 44,
     "metadata": {},
     "output_type": "execute_result"
    }
   ],
   "source": [
    "df.skew()"
   ]
  },
  {
   "cell_type": "markdown",
   "id": "1e4a183d",
   "metadata": {},
   "source": [
    "# OUtliers handling"
   ]
  },
  {
   "cell_type": "code",
   "execution_count": 45,
   "id": "d126e6ff",
   "metadata": {},
   "outputs": [
    {
     "data": {
      "image/png": "[encoded data removed]",
      "text/plain": [
       "<Figure size 1800x1000 with 9 Axes>"
      ]
     },
     "metadata": {},
     "output_type": "display_data"
    }
   ],
   "source": [
    "plt.figure(figsize=(18,10))\n",
    "for i in enumerate(df):\n",
    "    plt.subplot(3,5,i[0]+1)\n",
    "    sns.boxplot(df[i[1]])"
   ]
  },
  {
   "cell_type": "markdown",
   "id": "33484f56",
   "metadata": {},
   "source": [
    "# ZSCORE METHOD"
   ]
  },
  {
   "cell_type": "code",
   "execution_count": 46,
   "id": "79ad90db",
   "metadata": {},
   "outputs": [
    {
     "name": "stdout",
     "output_type": "stream",
     "text": [
      "(array([ 2699,  5506,  8366,  9097, 10381, 11320, 11321, 11323, 11324,\n",
      "       11325, 11326, 11327, 11328, 11329, 11330, 11331, 11332, 12821,\n",
      "       12823, 13033, 13035, 13037, 13038, 13395, 13657, 13661, 14019,\n",
      "       14020, 14073, 14074, 14119, 14120, 14121, 14122, 14123, 14124,\n",
      "       14125, 14126, 14128, 14129, 14177, 14385, 14699, 14701, 14702,\n",
      "       14807, 14911, 14912, 14913, 14914, 14915, 14916, 14917, 14918,\n",
      "       14919, 15124, 15125, 15127, 15128, 15129, 15130, 15510, 15511,\n",
      "       15667, 15668, 15671, 15673, 15674, 15814, 15871, 16024, 16050,\n",
      "       16055, 16395, 16399, 16421, 16660, 16661, 16662, 16663, 16664,\n",
      "       16665, 16666, 16667, 16714, 16715, 16717, 16718, 16719, 16720,\n",
      "       16721, 16734, 16737, 16738, 16985, 16986, 16994, 16995, 16996,\n",
      "       16997, 16998, 16999, 17000, 17007, 17008, 17009, 17010, 17015,\n",
      "       17017, 17031, 17032, 17033, 17034, 17035, 17036, 17037, 17038,\n",
      "       17039, 17040, 17047, 17244, 17245, 17246, 17247, 17248, 17249,\n",
      "       17250, 17251, 17255, 17300, 17301, 17302, 17303, 17304, 17402,\n",
      "       17428], dtype=int64), array([4, 4, 4, 4, 2, 1, 1, 1, 1, 1, 1, 1, 1, 1, 1, 1, 1, 1, 1, 1, 1, 1,\n",
      "       1, 1, 1, 1, 1, 1, 1, 1, 1, 1, 1, 1, 1, 1, 1, 1, 1, 1, 1, 1, 1, 1,\n",
      "       1, 1, 1, 1, 1, 1, 1, 1, 1, 1, 1, 1, 1, 1, 1, 1, 1, 1, 1, 1, 1, 1,\n",
      "       1, 1, 1, 1, 1, 1, 1, 1, 1, 1, 1, 1, 1, 1, 1, 1, 1, 1, 1, 1, 1, 1,\n",
      "       1, 1, 1, 1, 1, 1, 1, 1, 1, 1, 1, 1, 1, 1, 1, 1, 1, 1, 1, 1, 1, 1,\n",
      "       1, 1, 1, 1, 1, 1, 1, 1, 1, 1, 1, 1, 1, 1, 1, 1, 1, 1, 1, 1, 1, 1,\n",
      "       1, 1, 1, 1], dtype=int64))\n"
     ]
    }
   ],
   "source": [
    "from scipy.stats import zscore\n",
    "\n",
    "z = np.abs(zscore(df))\n",
    "print(np.where(z>3))"
   ]
  },
  {
   "cell_type": "code",
   "execution_count": 47,
   "id": "83363dc4",
   "metadata": {},
   "outputs": [
    {
     "name": "stdout",
     "output_type": "stream",
     "text": [
      "with outliers:: (18249, 9)\n",
      "After removing outliers:: (18113, 9)\n"
     ]
    }
   ],
   "source": [
    "df_1 = df[(z<3).all(axis=1)]\n",
    "print(\"with outliers::\",df.shape)\n",
    "print(\"After removing outliers::\",df_1.shape)"
   ]
  },
  {
   "cell_type": "markdown",
   "id": "cdd7bf9f",
   "metadata": {},
   "source": [
    "# IQR METHOD"
   ]
  },
  {
   "cell_type": "code",
   "execution_count": 48,
   "id": "ce146737",
   "metadata": {},
   "outputs": [
    {
     "data": {
      "text/plain": [
       "14.757706139040808"
      ]
     },
     "execution_count": 48,
     "metadata": {},
     "output_type": "execute_result"
    }
   ],
   "source": [
    "from scipy import stats\n",
    "\n",
    "IQR = stats.iqr(df)\n",
    "IQR"
   ]
  },
  {
   "cell_type": "code",
   "execution_count": 49,
   "id": "6fc8899d",
   "metadata": {},
   "outputs": [
    {
     "name": "stdout",
     "output_type": "stream",
     "text": [
      "(15210, 9)\n"
     ]
    }
   ],
   "source": [
    "Q1 = df.quantile()\n",
    "Q3 = df.quantile()\n",
    "df_out = df[~((df < (Q1 - 1.5 * IQR)) |(df > (Q3 + 1.5 * IQR))).any(axis=1)]\n",
    "print(df_out.shape)"
   ]
  },
  {
   "cell_type": "code",
   "execution_count": 50,
   "id": "a096fcb5",
   "metadata": {},
   "outputs": [],
   "source": [
    "df = df_out"
   ]
  },
  {
   "cell_type": "markdown",
   "id": "629eb2a8",
   "metadata": {},
   "source": [
    "# Dividing Data into X and Y"
   ]
  },
  {
   "cell_type": "code",
   "execution_count": 51,
   "id": "9f05ffce",
   "metadata": {},
   "outputs": [],
   "source": [
    "x = df.drop(['AveragePrice'],axis=1)\n",
    "y = df['AveragePrice']"
   ]
  },
  {
   "cell_type": "code",
   "execution_count": 52,
   "id": "e523f8d1",
   "metadata": {},
   "outputs": [
    {
     "data": {
      "text/plain": [
       "(15210, 8)"
      ]
     },
     "execution_count": 52,
     "metadata": {},
     "output_type": "execute_result"
    }
   ],
   "source": [
    "\n",
    "x.shape"
   ]
  },
  {
   "cell_type": "code",
   "execution_count": 53,
   "id": "0737616b",
   "metadata": {},
   "outputs": [
    {
     "data": {
      "text/plain": [
       "(15210,)"
      ]
     },
     "execution_count": 53,
     "metadata": {},
     "output_type": "execute_result"
    }
   ],
   "source": [
    "y.shape"
   ]
  },
  {
   "cell_type": "markdown",
   "id": "a0e904d3",
   "metadata": {},
   "source": [
    "# Scaling X values"
   ]
  },
  {
   "cell_type": "code",
   "execution_count": 54,
   "id": "6bd0879b",
   "metadata": {},
   "outputs": [],
   "source": [
    "from sklearn.preprocessing import MinMaxScaler\n",
    "\n",
    "sc=MinMaxScaler()\n",
    "x=sc.fit_transform(x)"
   ]
  },
  {
   "cell_type": "code",
   "execution_count": 55,
   "id": "502e6c5e",
   "metadata": {},
   "outputs": [
    {
     "data": {
      "text/plain": [
       "0    0\n",
       "1    0\n",
       "2    0\n",
       "3    0\n",
       "4    0\n",
       "5    0\n",
       "6    0\n",
       "7    0\n",
       "dtype: int64"
      ]
     },
     "execution_count": 55,
     "metadata": {},
     "output_type": "execute_result"
    }
   ],
   "source": [
    "pd.DataFrame(x).isnull().sum()"
   ]
  },
  {
   "cell_type": "code",
   "execution_count": 56,
   "id": "b1d6a8cd",
   "metadata": {},
   "outputs": [
    {
     "data": {
      "text/html": [
       "<div>\n",
       "<style scoped>\n",
       "    .dataframe tbody tr th:only-of-type {\n",
       "        vertical-align: middle;\n",
       "    }\n",
       "\n",
       "    .dataframe tbody tr th {\n",
       "        vertical-align: top;\n",
       "    }\n",
       "\n",
       "    .dataframe thead th {\n",
       "        text-align: right;\n",
       "    }\n",
       "</style>\n",
       "<table border=\"1\" class=\"dataframe\">\n",
       "  <thead>\n",
       "    <tr style=\"text-align: right;\">\n",
       "      <th></th>\n",
       "      <th>0</th>\n",
       "      <th>1</th>\n",
       "      <th>2</th>\n",
       "      <th>3</th>\n",
       "      <th>4</th>\n",
       "      <th>5</th>\n",
       "      <th>6</th>\n",
       "      <th>7</th>\n",
       "    </tr>\n",
       "  </thead>\n",
       "  <tbody>\n",
       "    <tr>\n",
       "      <th>count</th>\n",
       "      <td>15210.000000</td>\n",
       "      <td>15210.000000</td>\n",
       "      <td>15210.000000</td>\n",
       "      <td>15210.000000</td>\n",
       "      <td>15210.000000</td>\n",
       "      <td>15210.000000</td>\n",
       "      <td>15210.000000</td>\n",
       "      <td>15210.000000</td>\n",
       "    </tr>\n",
       "    <tr>\n",
       "      <th>mean</th>\n",
       "      <td>0.382643</td>\n",
       "      <td>0.603531</td>\n",
       "      <td>0.518980</td>\n",
       "      <td>0.536515</td>\n",
       "      <td>0.386583</td>\n",
       "      <td>0.500000</td>\n",
       "      <td>0.470683</td>\n",
       "      <td>0.488757</td>\n",
       "    </tr>\n",
       "    <tr>\n",
       "      <th>std</th>\n",
       "      <td>0.313316</td>\n",
       "      <td>0.181646</td>\n",
       "      <td>0.210127</td>\n",
       "      <td>0.188724</td>\n",
       "      <td>0.310788</td>\n",
       "      <td>0.295173</td>\n",
       "      <td>0.321284</td>\n",
       "      <td>0.292540</td>\n",
       "    </tr>\n",
       "    <tr>\n",
       "      <th>min</th>\n",
       "      <td>0.000000</td>\n",
       "      <td>0.000000</td>\n",
       "      <td>0.000000</td>\n",
       "      <td>0.000000</td>\n",
       "      <td>0.000000</td>\n",
       "      <td>0.000000</td>\n",
       "      <td>0.000000</td>\n",
       "      <td>0.000000</td>\n",
       "    </tr>\n",
       "    <tr>\n",
       "      <th>25%</th>\n",
       "      <td>0.000000</td>\n",
       "      <td>0.439388</td>\n",
       "      <td>0.363927</td>\n",
       "      <td>0.399874</td>\n",
       "      <td>0.000000</td>\n",
       "      <td>0.250000</td>\n",
       "      <td>0.181818</td>\n",
       "      <td>0.233333</td>\n",
       "    </tr>\n",
       "    <tr>\n",
       "      <th>50%</th>\n",
       "      <td>0.333333</td>\n",
       "      <td>0.634895</td>\n",
       "      <td>0.510331</td>\n",
       "      <td>0.548129</td>\n",
       "      <td>0.420619</td>\n",
       "      <td>0.500000</td>\n",
       "      <td>0.454545</td>\n",
       "      <td>0.500000</td>\n",
       "    </tr>\n",
       "    <tr>\n",
       "      <th>75%</th>\n",
       "      <td>0.666667</td>\n",
       "      <td>0.737031</td>\n",
       "      <td>0.684834</td>\n",
       "      <td>0.677545</td>\n",
       "      <td>0.668390</td>\n",
       "      <td>0.750000</td>\n",
       "      <td>0.727273</td>\n",
       "      <td>0.733333</td>\n",
       "    </tr>\n",
       "    <tr>\n",
       "      <th>max</th>\n",
       "      <td>1.000000</td>\n",
       "      <td>1.000000</td>\n",
       "      <td>1.000000</td>\n",
       "      <td>1.000000</td>\n",
       "      <td>1.000000</td>\n",
       "      <td>1.000000</td>\n",
       "      <td>1.000000</td>\n",
       "      <td>1.000000</td>\n",
       "    </tr>\n",
       "  </tbody>\n",
       "</table>\n",
       "</div>"
      ],
      "text/plain": [
       "                  0             1             2             3             4  \\\n",
       "count  15210.000000  15210.000000  15210.000000  15210.000000  15210.000000   \n",
       "mean       0.382643      0.603531      0.518980      0.536515      0.386583   \n",
       "std        0.313316      0.181646      0.210127      0.188724      0.310788   \n",
       "min        0.000000      0.000000      0.000000      0.000000      0.000000   \n",
       "25%        0.000000      0.439388      0.363927      0.399874      0.000000   \n",
       "50%        0.333333      0.634895      0.510331      0.548129      0.420619   \n",
       "75%        0.666667      0.737031      0.684834      0.677545      0.668390   \n",
       "max        1.000000      1.000000      1.000000      1.000000      1.000000   \n",
       "\n",
       "                  5             6             7  \n",
       "count  15210.000000  15210.000000  15210.000000  \n",
       "mean       0.500000      0.470683      0.488757  \n",
       "std        0.295173      0.321284      0.292540  \n",
       "min        0.000000      0.000000      0.000000  \n",
       "25%        0.250000      0.181818      0.233333  \n",
       "50%        0.500000      0.454545      0.500000  \n",
       "75%        0.750000      0.727273      0.733333  \n",
       "max        1.000000      1.000000      1.000000  "
      ]
     },
     "execution_count": 56,
     "metadata": {},
     "output_type": "execute_result"
    }
   ],
   "source": [
    "pd.DataFrame(x).describe()"
   ]
  },
  {
   "cell_type": "markdown",
   "id": "edcb8ef4",
   "metadata": {},
   "source": [
    "# Splitting the Data for Training and Testing"
   ]
  },
  {
   "cell_type": "code",
   "execution_count": 57,
   "id": "c263c6fc",
   "metadata": {},
   "outputs": [],
   "source": [
    "from sklearn.metrics import mean_squared_error,mean_absolute_error\n",
    "from sklearn.metrics import r2_score\n",
    "from sklearn.model_selection import train_test_split\n",
    "from sklearn.model_selection import cross_val_score"
   ]
  },
  {
   "cell_type": "markdown",
   "id": "f0c5433a",
   "metadata": {},
   "source": [
    "# Let's find the best random state in below cell"
   ]
  },
  {
   "cell_type": "code",
   "execution_count": 58,
   "id": "e689d549",
   "metadata": {},
   "outputs": [
    {
     "name": "stdout",
     "output_type": "stream",
     "text": [
      "At random state 0, The training accuracy is :-0.4682184292044963\n",
      "At random state 0, The test accuracy is :-0.43563994526411554\n",
      "\n",
      "\n",
      "At random state 1, The training accuracy is :-0.4576484281460236\n",
      "At random state 1, The test accuracy is :-0.4739409076208899\n",
      "\n",
      "\n",
      "At random state 2, The training accuracy is :-0.46007490810143026\n",
      "At random state 2, The test accuracy is :-0.46543433966358294\n",
      "\n",
      "\n",
      "At random state 3, The training accuracy is :-0.4602178150891829\n",
      "At random state 3, The test accuracy is :-0.46497449677214375\n",
      "\n",
      "\n",
      "At random state 4, The training accuracy is :-0.46240394271879803\n",
      "At random state 4, The test accuracy is :-0.4572543140625335\n",
      "\n",
      "\n",
      "At random state 5, The training accuracy is :-0.4606318571735364\n",
      "At random state 5, The test accuracy is :-0.4637259630565853\n",
      "\n",
      "\n",
      "At random state 6, The training accuracy is :-0.4581537147069392\n",
      "At random state 6, The test accuracy is :-0.47226894992503743\n",
      "\n",
      "\n",
      "At random state 7, The training accuracy is :-0.4638379293520354\n",
      "At random state 7, The test accuracy is :-0.4517813700157777\n",
      "\n",
      "\n",
      "At random state 8, The training accuracy is :-0.4637443816036978\n",
      "At random state 8, The test accuracy is :-0.45288593846337444\n",
      "\n",
      "\n",
      "At random state 9, The training accuracy is :-0.4598142303219477\n",
      "At random state 9, The test accuracy is :-0.46555358289408577\n",
      "\n",
      "\n",
      "At random state 10, The training accuracy is :-0.4642805570308436\n",
      "At random state 10, The test accuracy is :-0.45089908561310243\n",
      "\n",
      "\n",
      "At random state 11, The training accuracy is :-0.4581576800601791\n",
      "At random state 11, The test accuracy is :-0.47192426030109635\n",
      "\n",
      "\n",
      "At random state 12, The training accuracy is :-0.4644290018882764\n",
      "At random state 12, The test accuracy is :-0.45060434392496773\n",
      "\n",
      "\n",
      "At random state 13, The training accuracy is :-0.46622973925324374\n",
      "At random state 13, The test accuracy is :-0.4430256880249963\n",
      "\n",
      "\n",
      "At random state 14, The training accuracy is :-0.46194554776633123\n",
      "At random state 14, The test accuracy is :-0.45839486600721635\n",
      "\n",
      "\n",
      "At random state 15, The training accuracy is :-0.4599308768752449\n",
      "At random state 15, The test accuracy is :-0.4660102634306018\n",
      "\n",
      "\n",
      "At random state 16, The training accuracy is :-0.4607759587100453\n",
      "At random state 16, The test accuracy is :-0.46317946103305374\n",
      "\n",
      "\n",
      "At random state 17, The training accuracy is :-0.46194030666855823\n",
      "At random state 17, The test accuracy is :-0.45792343999981744\n",
      "\n",
      "\n",
      "At random state 18, The training accuracy is :-0.457916189284302\n",
      "At random state 18, The test accuracy is :-0.47344937257024355\n",
      "\n",
      "\n",
      "At random state 19, The training accuracy is :-0.46158771775371354\n",
      "At random state 19, The test accuracy is :-0.46032021697586367\n",
      "\n",
      "\n",
      "At random state 20, The training accuracy is :-0.4610529821561141\n",
      "At random state 20, The test accuracy is :-0.4618434650161305\n",
      "\n",
      "\n",
      "At random state 21, The training accuracy is :-0.46110799241146416\n",
      "At random state 21, The test accuracy is :-0.462183447546918\n",
      "\n",
      "\n",
      "At random state 22, The training accuracy is :-0.46047385447829503\n",
      "At random state 22, The test accuracy is :-0.4642621863086174\n",
      "\n",
      "\n",
      "At random state 23, The training accuracy is :-0.4583601158514288\n",
      "At random state 23, The test accuracy is :-0.4719307304574464\n",
      "\n",
      "\n",
      "At random state 24, The training accuracy is :-0.4607041211288372\n",
      "At random state 24, The test accuracy is :-0.4630860391166576\n",
      "\n",
      "\n",
      "At random state 25, The training accuracy is :-0.462968845357304\n",
      "At random state 25, The test accuracy is :-0.4547811656188865\n",
      "\n",
      "\n",
      "At random state 26, The training accuracy is :-0.4608850425958527\n",
      "At random state 26, The test accuracy is :-0.462483413878496\n",
      "\n",
      "\n",
      "At random state 27, The training accuracy is :-0.46064006096095234\n",
      "At random state 27, The test accuracy is :-0.46370055673709953\n",
      "\n",
      "\n",
      "At random state 28, The training accuracy is :-0.4587681899822821\n",
      "At random state 28, The test accuracy is :-0.4705224086344054\n",
      "\n",
      "\n",
      "At random state 29, The training accuracy is :-0.462181502844609\n",
      "At random state 29, The test accuracy is :-0.4579994235338666\n",
      "\n",
      "\n",
      "At random state 30, The training accuracy is :-0.4617680404779607\n",
      "At random state 30, The test accuracy is :-0.45955136026154175\n",
      "\n",
      "\n",
      "At random state 31, The training accuracy is :-0.46485295954443595\n",
      "At random state 31, The test accuracy is :-0.4484821095408221\n",
      "\n",
      "\n",
      "At random state 32, The training accuracy is :-0.4617910928487011\n",
      "At random state 32, The test accuracy is :-0.4596418627287815\n",
      "\n",
      "\n",
      "At random state 33, The training accuracy is :-0.45772631903518646\n",
      "At random state 33, The test accuracy is :-0.47404440710750284\n",
      "\n",
      "\n",
      "At random state 34, The training accuracy is :-0.4619852309352509\n",
      "At random state 34, The test accuracy is :-0.4587886815436999\n",
      "\n",
      "\n",
      "At random state 35, The training accuracy is :-0.46505875101829475\n",
      "At random state 35, The test accuracy is :-0.44730565818393875\n",
      "\n",
      "\n",
      "At random state 36, The training accuracy is :-0.464234156454455\n",
      "At random state 36, The test accuracy is :-0.45043981960373936\n",
      "\n",
      "\n",
      "At random state 37, The training accuracy is :-0.4559707957921352\n",
      "At random state 37, The test accuracy is :-0.4790851523973041\n",
      "\n",
      "\n",
      "At random state 38, The training accuracy is :-0.4595881630177231\n",
      "At random state 38, The test accuracy is :-0.46730989496506137\n",
      "\n",
      "\n",
      "At random state 39, The training accuracy is :-0.46225358047521936\n",
      "At random state 39, The test accuracy is :-0.45762904534821325\n",
      "\n",
      "\n",
      "At random state 40, The training accuracy is :-0.46133422042893923\n",
      "At random state 40, The test accuracy is :-0.4612047296366617\n",
      "\n",
      "\n",
      "At random state 41, The training accuracy is :-0.46164834014447276\n",
      "At random state 41, The test accuracy is :-0.4599496944637238\n",
      "\n",
      "\n",
      "At random state 42, The training accuracy is :-0.458034301557421\n",
      "At random state 42, The test accuracy is :-0.47386937588598677\n",
      "\n",
      "\n",
      "At random state 43, The training accuracy is :-0.46030425601320646\n",
      "At random state 43, The test accuracy is :-0.46445100605293876\n",
      "\n",
      "\n",
      "At random state 44, The training accuracy is :-0.46242114786443145\n",
      "At random state 44, The test accuracy is :-0.4566272829673016\n",
      "\n",
      "\n",
      "At random state 45, The training accuracy is :-0.4579540061258517\n",
      "At random state 45, The test accuracy is :-0.4726257043724298\n",
      "\n",
      "\n",
      "At random state 46, The training accuracy is :-0.4615926769956732\n",
      "At random state 46, The test accuracy is :-0.4603164608517084\n",
      "\n",
      "\n",
      "At random state 47, The training accuracy is :-0.4617456796589132\n",
      "At random state 47, The test accuracy is :-0.4600245191443798\n",
      "\n",
      "\n",
      "At random state 48, The training accuracy is :-0.4630680888125601\n",
      "At random state 48, The test accuracy is :-0.45452959534632564\n",
      "\n",
      "\n",
      "At random state 49, The training accuracy is :-0.457342244483006\n",
      "At random state 49, The test accuracy is :-0.4751541494307724\n",
      "\n",
      "\n",
      "At random state 50, The training accuracy is :-0.46316077779628595\n",
      "At random state 50, The test accuracy is :-0.4546636795382478\n",
      "\n",
      "\n",
      "At random state 51, The training accuracy is :-0.4618740059959875\n",
      "At random state 51, The test accuracy is :-0.45942920967535217\n",
      "\n",
      "\n",
      "At random state 52, The training accuracy is :-0.45838653872854096\n",
      "At random state 52, The test accuracy is :-0.47075031000484846\n",
      "\n",
      "\n",
      "At random state 53, The training accuracy is :-0.4640352914556034\n",
      "At random state 53, The test accuracy is :-0.45109002231510054\n",
      "\n",
      "\n",
      "At random state 54, The training accuracy is :-0.4628243482038561\n",
      "At random state 54, The test accuracy is :-0.455626870703395\n",
      "\n",
      "\n",
      "At random state 55, The training accuracy is :-0.46020304310344184\n",
      "At random state 55, The test accuracy is :-0.46485756039689463\n",
      "\n",
      "\n",
      "At random state 56, The training accuracy is :-0.4606663904303657\n",
      "At random state 56, The test accuracy is :-0.46381763215478666\n",
      "\n",
      "\n",
      "At random state 57, The training accuracy is :-0.462487926116425\n",
      "At random state 57, The test accuracy is :-0.4573748342672004\n",
      "\n",
      "\n",
      "At random state 58, The training accuracy is :-0.45792427704574623\n",
      "At random state 58, The test accuracy is :-0.47250678173616023\n",
      "\n",
      "\n",
      "At random state 59, The training accuracy is :-0.4628136712308698\n",
      "At random state 59, The test accuracy is :-0.45535435712854266\n",
      "\n",
      "\n",
      "At random state 60, The training accuracy is :-0.46276340415942896\n",
      "At random state 60, The test accuracy is :-0.45607785449231575\n",
      "\n",
      "\n",
      "At random state 61, The training accuracy is :-0.4559423495273075\n",
      "At random state 61, The test accuracy is :-0.4812737226457596\n",
      "\n",
      "\n",
      "At random state 62, The training accuracy is :-0.4599250483763617\n",
      "At random state 62, The test accuracy is :-0.4662583547241397\n",
      "\n",
      "\n",
      "At random state 63, The training accuracy is :-0.46581621333656276\n",
      "At random state 63, The test accuracy is :-0.44497354806066836\n",
      "\n",
      "\n",
      "At random state 64, The training accuracy is :-0.4612924601435894\n",
      "At random state 64, The test accuracy is :-0.4615962557169684\n",
      "\n",
      "\n",
      "At random state 65, The training accuracy is :-0.4583864868113732\n",
      "At random state 65, The test accuracy is :-0.4716569858005699\n",
      "\n",
      "\n",
      "At random state 66, The training accuracy is :-0.46236544436561755\n",
      "At random state 66, The test accuracy is :-0.4575602736101614\n",
      "\n",
      "\n",
      "At random state 67, The training accuracy is :-0.459446092288767\n",
      "At random state 67, The test accuracy is :-0.4677518696852666\n",
      "\n",
      "\n",
      "At random state 68, The training accuracy is :-0.4586646404486987\n",
      "At random state 68, The test accuracy is :-0.470831656861879\n",
      "\n",
      "\n",
      "At random state 69, The training accuracy is :-0.45963078204079266\n",
      "At random state 69, The test accuracy is :-0.4671585414813716\n",
      "\n",
      "\n",
      "At random state 70, The training accuracy is :-0.4633808252422653\n",
      "At random state 70, The test accuracy is :-0.4539190163649952\n",
      "\n",
      "\n",
      "At random state 71, The training accuracy is :-0.460385095059169\n",
      "At random state 71, The test accuracy is :-0.46392082602793305\n",
      "\n",
      "\n",
      "At random state 72, The training accuracy is :-0.45679860548925943\n",
      "At random state 72, The test accuracy is :-0.476356933797108\n",
      "\n",
      "\n",
      "At random state 73, The training accuracy is :-0.45781761159755807\n",
      "At random state 73, The test accuracy is :-0.4737284605121267\n",
      "\n",
      "\n",
      "At random state 74, The training accuracy is :-0.46021887580693144\n",
      "At random state 74, The test accuracy is :-0.46536883026122433\n",
      "\n",
      "\n",
      "At random state 75, The training accuracy is :-0.4593360327434284\n",
      "At random state 75, The test accuracy is :-0.46826388368147975\n",
      "\n",
      "\n",
      "At random state 76, The training accuracy is :-0.46091237484914804\n",
      "At random state 76, The test accuracy is :-0.4626615225317344\n",
      "\n",
      "\n",
      "At random state 77, The training accuracy is :-0.4655472072058586\n",
      "At random state 77, The test accuracy is :-0.4439573242666186\n",
      "\n",
      "\n",
      "At random state 78, The training accuracy is :-0.462164492562243\n",
      "At random state 78, The test accuracy is :-0.4580505409442054\n",
      "\n",
      "\n",
      "At random state 79, The training accuracy is :-0.4616175817345901\n",
      "At random state 79, The test accuracy is :-0.4599393783560306\n",
      "\n",
      "\n",
      "At random state 80, The training accuracy is :-0.4618411238831627\n",
      "At random state 80, The test accuracy is :-0.45949578114224154\n",
      "\n",
      "\n",
      "At random state 81, The training accuracy is :-0.46597453743848016\n",
      "At random state 81, The test accuracy is :-0.444475566764053\n",
      "\n",
      "\n",
      "At random state 82, The training accuracy is :-0.46663377198398315\n",
      "At random state 82, The test accuracy is :-0.4412276780885934\n",
      "\n",
      "\n",
      "At random state 83, The training accuracy is :-0.46565812087819547\n",
      "At random state 83, The test accuracy is :-0.4450343790268859\n",
      "\n",
      "\n",
      "At random state 84, The training accuracy is :-0.46172505393994556\n",
      "At random state 84, The test accuracy is :-0.459830867158882\n",
      "\n",
      "\n",
      "At random state 85, The training accuracy is :-0.46702114554926266\n",
      "At random state 85, The test accuracy is :-0.441206094480884\n",
      "\n",
      "\n",
      "At random state 86, The training accuracy is :-0.4665862748828643\n",
      "At random state 86, The test accuracy is :-0.4435294323291389\n",
      "\n",
      "\n",
      "At random state 87, The training accuracy is :-0.4621684358269663\n",
      "At random state 87, The test accuracy is :-0.4572130786362343\n",
      "\n",
      "\n",
      "At random state 88, The training accuracy is :-0.46842838308255974\n",
      "At random state 88, The test accuracy is :-0.4347926953785841\n",
      "\n",
      "\n",
      "At random state 89, The training accuracy is :-0.4672900766574273\n",
      "At random state 89, The test accuracy is :-0.43833385612487497\n",
      "\n",
      "\n",
      "At random state 90, The training accuracy is :-0.46179935216081114\n",
      "At random state 90, The test accuracy is :-0.45927345562674604\n",
      "\n",
      "\n",
      "At random state 91, The training accuracy is :-0.4566886200015766\n",
      "At random state 91, The test accuracy is :-0.4765904239718789\n",
      "\n",
      "\n",
      "At random state 92, The training accuracy is :-0.4669898075890574\n",
      "At random state 92, The test accuracy is :-0.4418184652349556\n",
      "\n",
      "\n",
      "At random state 93, The training accuracy is :-0.4665002812934327\n",
      "At random state 93, The test accuracy is :-0.44410816190094704\n",
      "\n",
      "\n",
      "At random state 94, The training accuracy is :-0.45873864460972136\n",
      "At random state 94, The test accuracy is :-0.4698017038537219\n",
      "\n",
      "\n",
      "At random state 95, The training accuracy is :-0.4607009421752378\n",
      "At random state 95, The test accuracy is :-0.463137324713329\n",
      "\n",
      "\n",
      "At random state 96, The training accuracy is :-0.46473740590976675\n",
      "At random state 96, The test accuracy is :-0.448831710010981\n",
      "\n",
      "\n",
      "At random state 97, The training accuracy is :-0.46361791103783745\n",
      "At random state 97, The test accuracy is :-0.45300235075946094\n",
      "\n",
      "\n",
      "At random state 98, The training accuracy is :-0.46004511057501885\n",
      "At random state 98, The test accuracy is :-0.4659297267874378\n",
      "\n",
      "\n",
      "At random state 99, The training accuracy is :-0.4566582067831041\n",
      "At random state 99, The test accuracy is :-0.47653902561604233\n",
      "\n",
      "\n"
     ]
    }
   ],
   "source": [
    "from sklearn.linear_model import LinearRegression\n",
    "\n",
    "\n",
    "LR = LinearRegression()\n",
    "\n",
    "for i in range(0,100):\n",
    "    x_train,x_test,y_train,y_test=train_test_split(x,y,test_size=0.22,random_state=i)\n",
    "    LR.fit(x_train,y_train)\n",
    "    LR_predict_train=LR.predict(x_train)\n",
    "    LR_predict_test=LR.predict(x_test)\n",
    "    print(f'At random state {i}, The training accuracy is :-{r2_score(y_train,LR_predict_train)}')\n",
    "    print(f'At random state {i}, The test accuracy is :-{r2_score(y_test,LR_predict_test)}')\n",
    "    print('\\n')"
   ]
  },
  {
   "cell_type": "code",
   "execution_count": 59,
   "id": "d72ce78e",
   "metadata": {},
   "outputs": [],
   "source": [
    "# spliting the data into 78% training and 22% testing\n",
    "\n",
    "x_train,x_test,y_train,y_test=train_test_split(x,y,test_size=0.22,random_state=24)"
   ]
  },
  {
   "cell_type": "code",
   "execution_count": 60,
   "id": "a8e7df72",
   "metadata": {},
   "outputs": [
    {
     "data": {
      "text/plain": [
       "(11863, 8)"
      ]
     },
     "execution_count": 60,
     "metadata": {},
     "output_type": "execute_result"
    }
   ],
   "source": [
    "x_train.shape"
   ]
  },
  {
   "cell_type": "code",
   "execution_count": 61,
   "id": "71ef2e2e",
   "metadata": {},
   "outputs": [
    {
     "data": {
      "text/plain": [
       "(11863,)"
      ]
     },
     "execution_count": 61,
     "metadata": {},
     "output_type": "execute_result"
    }
   ],
   "source": [
    "y_train.shape"
   ]
  },
  {
   "cell_type": "code",
   "execution_count": 62,
   "id": "b2a86add",
   "metadata": {},
   "outputs": [
    {
     "data": {
      "text/plain": [
       "(3347, 8)"
      ]
     },
     "execution_count": 62,
     "metadata": {},
     "output_type": "execute_result"
    }
   ],
   "source": [
    "x_test.shape"
   ]
  },
  {
   "cell_type": "code",
   "execution_count": 63,
   "id": "c47169f5",
   "metadata": {},
   "outputs": [
    {
     "data": {
      "text/plain": [
       "(3347,)"
      ]
     },
     "execution_count": 63,
     "metadata": {},
     "output_type": "execute_result"
    }
   ],
   "source": [
    "y_test.shape"
   ]
  },
  {
   "cell_type": "markdown",
   "id": "7c2d26b4",
   "metadata": {},
   "source": [
    "# Model Building"
   ]
  },
  {
   "cell_type": "markdown",
   "id": "14cf82c2",
   "metadata": {},
   "source": [
    "#### Linear Regression"
   ]
  },
  {
   "cell_type": "code",
   "execution_count": 64,
   "id": "9e72cfea",
   "metadata": {},
   "outputs": [
    {
     "name": "stdout",
     "output_type": "stream",
     "text": [
      "0.4607041211288372\n"
     ]
    }
   ],
   "source": [
    "from sklearn.linear_model import LinearRegression\n",
    "\n",
    "LR = LinearRegression()\n",
    "LR.fit(x_train,y_train)\n",
    "print(LR.score(x_train,y_train))\n",
    "LR_predict=LR.predict(x_test)"
   ]
  },
  {
   "cell_type": "code",
   "execution_count": 65,
   "id": "a4e11f00",
   "metadata": {},
   "outputs": [
    {
     "name": "stdout",
     "output_type": "stream",
     "text": [
      "MSE: 0.08809039305240889\n",
      "MAE: 0.23213172991603\n",
      "r2_score: -0.11920269487224289\n"
     ]
    }
   ],
   "source": [
    "print('MSE:',mean_squared_error(LR_predict,y_test))\n",
    "print('MAE:',mean_absolute_error(LR_predict,y_test))\n",
    "print('r2_score:',r2_score(LR_predict,y_test))"
   ]
  },
  {
   "cell_type": "markdown",
   "id": "05b9e4e0",
   "metadata": {},
   "source": [
    "# Ridge"
   ]
  },
  {
   "cell_type": "code",
   "execution_count": 66,
   "id": "d1dc38b0",
   "metadata": {},
   "outputs": [
    {
     "name": "stdout",
     "output_type": "stream",
     "text": [
      "0.4604670676664737\n"
     ]
    }
   ],
   "source": [
    "from sklearn.linear_model import Ridge\n",
    "\n",
    "R = Ridge()\n",
    "R.fit(x_train,y_train)\n",
    "print(R.score(x_train,y_train))\n",
    "R_predict=R.predict(x_test)"
   ]
  },
  {
   "cell_type": "code",
   "execution_count": 67,
   "id": "0f62f018",
   "metadata": {},
   "outputs": [
    {
     "name": "stdout",
     "output_type": "stream",
     "text": [
      "MSE: 0.08807520553213663\n",
      "MAE: 0.2319064074972269\n",
      "r2_score: -0.14298119347175953\n"
     ]
    }
   ],
   "source": [
    "print('MSE:',mean_squared_error(R_predict,y_test))\n",
    "print('MAE:',mean_absolute_error(R_predict,y_test))\n",
    "print('r2_score:',r2_score(R_predict,y_test))"
   ]
  },
  {
   "cell_type": "markdown",
   "id": "f17fbe21",
   "metadata": {},
   "source": [
    "# SVR"
   ]
  },
  {
   "cell_type": "markdown",
   "id": "ab958b44",
   "metadata": {},
   "source": [
    "#### SVR(kernel='linear')"
   ]
  },
  {
   "cell_type": "code",
   "execution_count": 69,
   "id": "28ce02b9",
   "metadata": {},
   "outputs": [
    {
     "name": "stdout",
     "output_type": "stream",
     "text": [
      "0.45705317554946545\n"
     ]
    }
   ],
   "source": [
    "from sklearn.svm import SVR\n",
    "\n",
    "svr = SVR(kernel='linear')\n",
    "svr.fit(x_train,y_train)\n",
    "print(svr.score(x_train,y_train))\n",
    "svr_predict=svr.predict(x_test)"
   ]
  },
  {
   "cell_type": "code",
   "execution_count": 70,
   "id": "24546f5c",
   "metadata": {},
   "outputs": [
    {
     "name": "stdout",
     "output_type": "stream",
     "text": [
      "MSE: 0.08811550937549262\n",
      "MAE: 0.2305327364667414\n",
      "r2_score: -0.14502285228552103\n"
     ]
    }
   ],
   "source": [
    "print('MSE:',mean_squared_error(svr_predict,y_test))\n",
    "print('MAE:',mean_absolute_error(svr_predict,y_test))\n",
    "print('r2_score:',r2_score(svr_predict,y_test))"
   ]
  },
  {
   "cell_type": "markdown",
   "id": "a00c6106",
   "metadata": {},
   "source": [
    "#### SVR(kernel='poly')"
   ]
  },
  {
   "cell_type": "code",
   "execution_count": 71,
   "id": "5ac43156",
   "metadata": {},
   "outputs": [
    {
     "name": "stdout",
     "output_type": "stream",
     "text": [
      "0.5433267792455725\n"
     ]
    }
   ],
   "source": [
    "svr_p = SVR(kernel='poly')\n",
    "svr_p.fit(x_train,y_train)\n",
    "print(svr_p.score(x_train,y_train))\n",
    "svrpred_p=svr_p.predict(x_test)"
   ]
  },
  {
   "cell_type": "code",
   "execution_count": 72,
   "id": "ae983475",
   "metadata": {},
   "outputs": [
    {
     "name": "stdout",
     "output_type": "stream",
     "text": [
      "MSE: 0.07689823024006345\n",
      "MAE: 0.2106175673668613\n",
      "r2_score: 0.10076204858495585\n"
     ]
    }
   ],
   "source": [
    "print('MSE:',mean_squared_error(svrpred_p,y_test))\n",
    "print('MAE:',mean_absolute_error(svrpred_p,y_test))\n",
    "print('r2_score:',r2_score(svrpred_p,y_test))"
   ]
  },
  {
   "cell_type": "markdown",
   "id": "8e3c56a6",
   "metadata": {},
   "source": [
    "#### SVR(kernel='rbf')"
   ]
  },
  {
   "cell_type": "code",
   "execution_count": 73,
   "id": "cc08af21",
   "metadata": {},
   "outputs": [
    {
     "name": "stdout",
     "output_type": "stream",
     "text": [
      "0.7022230128595222\n"
     ]
    }
   ],
   "source": [
    "svr_r = SVR(kernel='rbf')\n",
    "svr_r.fit(x_train,y_train)\n",
    "print(svr_r.score(x_train,y_train))\n",
    "svrpred_r=svr_r.predict(x_test)"
   ]
  },
  {
   "cell_type": "code",
   "execution_count": 74,
   "id": "2367def1",
   "metadata": {},
   "outputs": [
    {
     "name": "stdout",
     "output_type": "stream",
     "text": [
      "MSE: 0.05136575983371958\n",
      "MAE: 0.16611986376208288\n",
      "r2_score: 0.4994272984275794\n"
     ]
    }
   ],
   "source": [
    "print('MSE:',mean_squared_error(svrpred_r,y_test))\n",
    "print('MAE:',mean_absolute_error(svrpred_r,y_test))\n",
    "print('r2_score:',r2_score(svrpred_r,y_test))"
   ]
  },
  {
   "cell_type": "markdown",
   "id": "9e40bda1",
   "metadata": {},
   "source": [
    "# Random Forest Regressor"
   ]
  },
  {
   "cell_type": "code",
   "execution_count": 75,
   "id": "1f6fe2a4",
   "metadata": {},
   "outputs": [
    {
     "name": "stdout",
     "output_type": "stream",
     "text": [
      "0.985443819801764\n"
     ]
    }
   ],
   "source": [
    "from sklearn.ensemble import RandomForestRegressor\n",
    "\n",
    "RF = RandomForestRegressor()\n",
    "RF.fit(x_train,y_train)\n",
    "print(RF.score(x_train,y_train))\n",
    "RF_PRED=RF.predict(x_test)"
   ]
  },
  {
   "cell_type": "code",
   "execution_count": 76,
   "id": "0ce1f44d",
   "metadata": {},
   "outputs": [
    {
     "name": "stdout",
     "output_type": "stream",
     "text": [
      "MSE: 0.018306656047206455\n",
      "MAE: 0.09264765461607412\n",
      "r2_score: 0.8596237259475052\n"
     ]
    }
   ],
   "source": [
    "print('MSE:',mean_squared_error(RF_PRED,y_test))\n",
    "print('MAE:',mean_absolute_error(RF_PRED,y_test))\n",
    "print('r2_score:',r2_score(RF_PRED,y_test))"
   ]
  },
  {
   "cell_type": "markdown",
   "id": "c745c992",
   "metadata": {},
   "source": [
    "# Decision Tree Regressor"
   ]
  },
  {
   "cell_type": "code",
   "execution_count": 77,
   "id": "f755a78d",
   "metadata": {},
   "outputs": [
    {
     "name": "stdout",
     "output_type": "stream",
     "text": [
      "1.0\n"
     ]
    }
   ],
   "source": [
    "from sklearn.tree import DecisionTreeRegressor\n",
    "\n",
    "DTR = DecisionTreeRegressor()\n",
    "DTR.fit(x_train,y_train)\n",
    "print(DTR.score(x_train,y_train))\n",
    "DTR_PRED=DTR.predict(x_test)"
   ]
  },
  {
   "cell_type": "code",
   "execution_count": 78,
   "id": "c4add121",
   "metadata": {},
   "outputs": [
    {
     "name": "stdout",
     "output_type": "stream",
     "text": [
      "MSE: 0.039026590976994326\n",
      "MAE: 0.12759486106961457\n",
      "r2_score: 0.7578123308814558\n"
     ]
    }
   ],
   "source": [
    "\n",
    "print('MSE:',mean_squared_error(DTR_PRED,y_test))\n",
    "print('MAE:',mean_absolute_error(DTR_PRED,y_test))\n",
    "print('r2_score:',r2_score(DTR_PRED,y_test))"
   ]
  },
  {
   "cell_type": "markdown",
   "id": "91a3ec0c",
   "metadata": {},
   "source": [
    "# Gradient Boosting Regressor"
   ]
  },
  {
   "cell_type": "code",
   "execution_count": 79,
   "id": "e5a8fa5b",
   "metadata": {},
   "outputs": [
    {
     "name": "stdout",
     "output_type": "stream",
     "text": [
      "0.7466876087346307\n"
     ]
    }
   ],
   "source": [
    "from sklearn.ensemble import GradientBoostingRegressor\n",
    "\n",
    "GBR = GradientBoostingRegressor()\n",
    "GBR.fit(x_train,y_train)\n",
    "print(GBR.score(x_train,y_train))\n",
    "GBR_PRED=GBR.predict(x_test)\n"
   ]
  },
  {
   "cell_type": "code",
   "execution_count": 88,
   "id": "a2290a19",
   "metadata": {},
   "outputs": [
    {
     "name": "stdout",
     "output_type": "stream",
     "text": [
      "MSE: 0.0439251905109065\n",
      "MAE: 0.1550107916100003\n",
      "r2_score: 0.5398900414197386\n"
     ]
    }
   ],
   "source": [
    "print('MSE:',mean_squared_error(GBR_PRED,y_test))\n",
    "print('MAE:',mean_absolute_error(GBR_PRED,y_test))\n",
    "print('r2_score:',r2_score(GBR_PRED,y_test))"
   ]
  },
  {
   "cell_type": "markdown",
   "id": "cd839535",
   "metadata": {},
   "source": [
    "# completed Project"
   ]
  }
 ],
 "metadata": {
  "kernelspec": {
   "display_name": "Python 3 (ipykernel)",
   "language": "python",
   "name": "python3"
  },
  "language_info": {
   "codemirror_mode": {
    "name": "ipython",
    "version": 3
   },
   "file_extension": ".py",
   "mimetype": "text/x-python",
   "name": "python",
   "nbconvert_exporter": "python",
   "pygments_lexer": "ipython3",
   "version": "3.9.13"
  }
 },
 "nbformat": 4,
 "nbformat_minor": 5
}
