{
 "cells": [
  {
   "cell_type": "markdown",
   "metadata": {},
   "source": [
    "# Titanic survived Project\n"
   ]
  },
  {
   "cell_type": "markdown",
   "metadata": {},
   "source": [
    "### Project Description"
   ]
  },
  {
   "cell_type": "markdown",
   "metadata": {},
   "source": [
    "The Titanic Problem is based on the sinking of the ‘Unsinkable’ ship Titanic in early 1912. It gives you information about multiple people like their ages, sexes, sibling counts, embarkment points, and whether or not they survived the disaster. \n",
    "Based on these features, you have to predict if an arbitrary passenger on Titanic would survive the sinking or not. "
   ]
  },
  {
   "cell_type": "markdown",
   "metadata": {},
   "source": [
    "### Attribute Information"
   ]
  },
  {
   "cell_type": "markdown",
   "metadata": {},
   "source": [
    "Passenger id- Unique Id of the passenger\n",
    "Pclass- Passenger Class (1 = 1st; 2 = 2nd; 3 = 3rd)\n",
    "Survived- Survived (0 = No; 1 = Yes)\n",
    "Name- Name of the passenger\n",
    "Sex- Sex of the passenger (Male, Female)\n",
    "Age- Age of the passenger\n",
    "Sibsp- Number of Siblings/Spouses Aboard"
   ]
  },
  {
   "cell_type": "markdown",
   "metadata": {},
   "source": [
    "Parch- Number of Parents/Children Aboard\n",
    "Ticket- Ticket Number\n",
    "Fare- Passenger Fare (British pound)\n",
    "Cabin- Cabin\n",
    "Embarked- Port of Embarkation (C = Cherbourg; Q = Queenstown; S = Southampton)"
   ]
  },
  {
   "cell_type": "markdown",
   "metadata": {},
   "source": [
    "### Dataset Link-"
   ]
  },
  {
   "cell_type": "markdown",
   "metadata": {},
   "source": [
    "https://github.com/dsrscientist/dataset1/blob/master/titanic_train.csv"
   ]
  },
  {
   "cell_type": "code",
   "execution_count": 81,
   "metadata": {},
   "outputs": [
    {
     "data": {
      "text/html": [
       "<img src=\"https://getwallpapers.com/wallpaper/full/c/3/7/998389-amazing-titanic-sinking-wallpaper-1920x1200-for-iphone-5.jpg\"/>"
      ],
      "text/plain": [
       "<IPython.core.display.Image object>"
      ]
     },
     "execution_count": 81,
     "metadata": {},
     "output_type": "execute_result"
    }
   ],
   "source": [
    "from IPython.display import Image\n",
    "\n",
    "Image(url=\"https://getwallpapers.com/wallpaper/full/c/3/7/998389-amazing-titanic-sinking-wallpaper-1920x1200-for-iphone-5.jpg\")"
   ]
  },
  {
   "cell_type": "code",
   "execution_count": 68,
   "metadata": {},
   "outputs": [],
   "source": [
    "#Importing All Required Libaries\n",
    "import pandas as pd\n",
    "import numpy as np\n",
    "import matplotlib.pyplot as plt\n",
    "\n",
    "from warnings import filterwarnings\n",
    "filterwarnings(action='ignore')"
   ]
  },
  {
   "cell_type": "code",
   "execution_count": 9,
   "metadata": {},
   "outputs": [],
   "source": [
    "data = pd.read_csv('titanic_train.csv')"
   ]
  },
  {
   "cell_type": "code",
   "execution_count": 11,
   "metadata": {},
   "outputs": [
    {
     "name": "stdout",
     "output_type": "stream",
     "text": [
      "<class 'pandas.core.frame.DataFrame'>\n",
      "RangeIndex: 891 entries, 0 to 890\n",
      "Data columns (total 12 columns):\n",
      " #   Column       Non-Null Count  Dtype  \n",
      "---  ------       --------------  -----  \n",
      " 0   PassengerId  891 non-null    int64  \n",
      " 1   Survived     891 non-null    int64  \n",
      " 2   Pclass       891 non-null    int64  \n",
      " 3   Name         891 non-null    object \n",
      " 4   Sex          891 non-null    object \n",
      " 5   Age          714 non-null    float64\n",
      " 6   SibSp        891 non-null    int64  \n",
      " 7   Parch        891 non-null    int64  \n",
      " 8   Ticket       891 non-null    object \n",
      " 9   Fare         891 non-null    float64\n",
      " 10  Cabin        204 non-null    object \n",
      " 11  Embarked     889 non-null    object \n",
      "dtypes: float64(2), int64(5), object(5)\n",
      "memory usage: 83.7+ KB\n"
     ]
    },
    {
     "data": {
      "text/html": [
       "<div>\n",
       "<style scoped>\n",
       "    .dataframe tbody tr th:only-of-type {\n",
       "        vertical-align: middle;\n",
       "    }\n",
       "\n",
       "    .dataframe tbody tr th {\n",
       "        vertical-align: top;\n",
       "    }\n",
       "\n",
       "    .dataframe thead th {\n",
       "        text-align: right;\n",
       "    }\n",
       "</style>\n",
       "<table border=\"1\" class=\"dataframe\">\n",
       "  <thead>\n",
       "    <tr style=\"text-align: right;\">\n",
       "      <th></th>\n",
       "      <th>PassengerId</th>\n",
       "      <th>Survived</th>\n",
       "      <th>Pclass</th>\n",
       "      <th>Age</th>\n",
       "      <th>SibSp</th>\n",
       "      <th>Parch</th>\n",
       "      <th>Fare</th>\n",
       "    </tr>\n",
       "  </thead>\n",
       "  <tbody>\n",
       "    <tr>\n",
       "      <th>count</th>\n",
       "      <td>891.000000</td>\n",
       "      <td>891.000000</td>\n",
       "      <td>891.000000</td>\n",
       "      <td>714.000000</td>\n",
       "      <td>891.000000</td>\n",
       "      <td>891.000000</td>\n",
       "      <td>891.000000</td>\n",
       "    </tr>\n",
       "    <tr>\n",
       "      <th>mean</th>\n",
       "      <td>446.000000</td>\n",
       "      <td>0.383838</td>\n",
       "      <td>2.308642</td>\n",
       "      <td>29.699118</td>\n",
       "      <td>0.523008</td>\n",
       "      <td>0.381594</td>\n",
       "      <td>32.204208</td>\n",
       "    </tr>\n",
       "    <tr>\n",
       "      <th>std</th>\n",
       "      <td>257.353842</td>\n",
       "      <td>0.486592</td>\n",
       "      <td>0.836071</td>\n",
       "      <td>14.526497</td>\n",
       "      <td>1.102743</td>\n",
       "      <td>0.806057</td>\n",
       "      <td>49.693429</td>\n",
       "    </tr>\n",
       "    <tr>\n",
       "      <th>min</th>\n",
       "      <td>1.000000</td>\n",
       "      <td>0.000000</td>\n",
       "      <td>1.000000</td>\n",
       "      <td>0.420000</td>\n",
       "      <td>0.000000</td>\n",
       "      <td>0.000000</td>\n",
       "      <td>0.000000</td>\n",
       "    </tr>\n",
       "    <tr>\n",
       "      <th>25%</th>\n",
       "      <td>223.500000</td>\n",
       "      <td>0.000000</td>\n",
       "      <td>2.000000</td>\n",
       "      <td>20.125000</td>\n",
       "      <td>0.000000</td>\n",
       "      <td>0.000000</td>\n",
       "      <td>7.910400</td>\n",
       "    </tr>\n",
       "    <tr>\n",
       "      <th>50%</th>\n",
       "      <td>446.000000</td>\n",
       "      <td>0.000000</td>\n",
       "      <td>3.000000</td>\n",
       "      <td>28.000000</td>\n",
       "      <td>0.000000</td>\n",
       "      <td>0.000000</td>\n",
       "      <td>14.454200</td>\n",
       "    </tr>\n",
       "    <tr>\n",
       "      <th>75%</th>\n",
       "      <td>668.500000</td>\n",
       "      <td>1.000000</td>\n",
       "      <td>3.000000</td>\n",
       "      <td>38.000000</td>\n",
       "      <td>1.000000</td>\n",
       "      <td>0.000000</td>\n",
       "      <td>31.000000</td>\n",
       "    </tr>\n",
       "    <tr>\n",
       "      <th>max</th>\n",
       "      <td>891.000000</td>\n",
       "      <td>1.000000</td>\n",
       "      <td>3.000000</td>\n",
       "      <td>80.000000</td>\n",
       "      <td>8.000000</td>\n",
       "      <td>6.000000</td>\n",
       "      <td>512.329200</td>\n",
       "    </tr>\n",
       "  </tbody>\n",
       "</table>\n",
       "</div>"
      ],
      "text/plain": [
       "       PassengerId    Survived      Pclass         Age       SibSp  \\\n",
       "count   891.000000  891.000000  891.000000  714.000000  891.000000   \n",
       "mean    446.000000    0.383838    2.308642   29.699118    0.523008   \n",
       "std     257.353842    0.486592    0.836071   14.526497    1.102743   \n",
       "min       1.000000    0.000000    1.000000    0.420000    0.000000   \n",
       "25%     223.500000    0.000000    2.000000   20.125000    0.000000   \n",
       "50%     446.000000    0.000000    3.000000   28.000000    0.000000   \n",
       "75%     668.500000    1.000000    3.000000   38.000000    1.000000   \n",
       "max     891.000000    1.000000    3.000000   80.000000    8.000000   \n",
       "\n",
       "            Parch        Fare  \n",
       "count  891.000000  891.000000  \n",
       "mean     0.381594   32.204208  \n",
       "std      0.806057   49.693429  \n",
       "min      0.000000    0.000000  \n",
       "25%      0.000000    7.910400  \n",
       "50%      0.000000   14.454200  \n",
       "75%      0.000000   31.000000  \n",
       "max      6.000000  512.329200  "
      ]
     },
     "execution_count": 11,
     "metadata": {},
     "output_type": "execute_result"
    }
   ],
   "source": [
    "train_dataset.info()\n",
    "\n",
    "train_dataset.describe()"
   ]
  },
  {
   "cell_type": "code",
   "execution_count": 14,
   "metadata": {},
   "outputs": [
    {
     "name": "stdout",
     "output_type": "stream",
     "text": [
      "Index(['PassengerId', 'Survived', 'Pclass', 'Name', 'Sex', 'Age', 'SibSp',\n",
      "       'Parch', 'Ticket', 'Fare', 'Cabin', 'Embarked'],\n",
      "      dtype='object')\n"
     ]
    }
   ],
   "source": [
    "# We check the columns.\n",
    "\n",
    "print(train_dataset.columns )"
   ]
  },
  {
   "cell_type": "code",
   "execution_count": 17,
   "metadata": {},
   "outputs": [
    {
     "name": "stdout",
     "output_type": "stream",
     "text": [
      "891\n"
     ]
    }
   ],
   "source": [
    "# Total number of passengers in two data sets\n",
    "print(train_dataset.shape[0] )"
   ]
  },
  {
   "cell_type": "code",
   "execution_count": 18,
   "metadata": {},
   "outputs": [
    {
     "data": {
      "text/plain": [
       "0.3838383838383838"
      ]
     },
     "execution_count": 18,
     "metadata": {},
     "output_type": "execute_result"
    }
   ],
   "source": [
    "# Survival rate\n",
    "train_dataset['Survived'].mean()"
   ]
  },
  {
   "cell_type": "code",
   "execution_count": 19,
   "metadata": {},
   "outputs": [
    {
     "data": {
      "text/html": [
       "<div>\n",
       "<style scoped>\n",
       "    .dataframe tbody tr th:only-of-type {\n",
       "        vertical-align: middle;\n",
       "    }\n",
       "\n",
       "    .dataframe tbody tr th {\n",
       "        vertical-align: top;\n",
       "    }\n",
       "\n",
       "    .dataframe thead th {\n",
       "        text-align: right;\n",
       "    }\n",
       "</style>\n",
       "<table border=\"1\" class=\"dataframe\">\n",
       "  <thead>\n",
       "    <tr style=\"text-align: right;\">\n",
       "      <th></th>\n",
       "      <th>PassengerId</th>\n",
       "      <th>Survived</th>\n",
       "      <th>Pclass</th>\n",
       "      <th>Name</th>\n",
       "      <th>Sex</th>\n",
       "      <th>Age</th>\n",
       "      <th>SibSp</th>\n",
       "      <th>Parch</th>\n",
       "      <th>Ticket</th>\n",
       "      <th>Fare</th>\n",
       "      <th>Cabin</th>\n",
       "      <th>Embarked</th>\n",
       "    </tr>\n",
       "  </thead>\n",
       "  <tbody>\n",
       "    <tr>\n",
       "      <th>0</th>\n",
       "      <td>1</td>\n",
       "      <td>0</td>\n",
       "      <td>3</td>\n",
       "      <td>Braund, Mr. Owen Harris</td>\n",
       "      <td>male</td>\n",
       "      <td>22.0</td>\n",
       "      <td>1</td>\n",
       "      <td>0</td>\n",
       "      <td>A/5 21171</td>\n",
       "      <td>7.2500</td>\n",
       "      <td>NaN</td>\n",
       "      <td>S</td>\n",
       "    </tr>\n",
       "    <tr>\n",
       "      <th>1</th>\n",
       "      <td>2</td>\n",
       "      <td>1</td>\n",
       "      <td>1</td>\n",
       "      <td>Cumings, Mrs. John Bradley (Florence Briggs Th...</td>\n",
       "      <td>female</td>\n",
       "      <td>38.0</td>\n",
       "      <td>1</td>\n",
       "      <td>0</td>\n",
       "      <td>PC 17599</td>\n",
       "      <td>71.2833</td>\n",
       "      <td>C85</td>\n",
       "      <td>C</td>\n",
       "    </tr>\n",
       "    <tr>\n",
       "      <th>2</th>\n",
       "      <td>3</td>\n",
       "      <td>1</td>\n",
       "      <td>3</td>\n",
       "      <td>Heikkinen, Miss. Laina</td>\n",
       "      <td>female</td>\n",
       "      <td>26.0</td>\n",
       "      <td>0</td>\n",
       "      <td>0</td>\n",
       "      <td>STON/O2. 3101282</td>\n",
       "      <td>7.9250</td>\n",
       "      <td>NaN</td>\n",
       "      <td>S</td>\n",
       "    </tr>\n",
       "    <tr>\n",
       "      <th>3</th>\n",
       "      <td>4</td>\n",
       "      <td>1</td>\n",
       "      <td>1</td>\n",
       "      <td>Futrelle, Mrs. Jacques Heath (Lily May Peel)</td>\n",
       "      <td>female</td>\n",
       "      <td>35.0</td>\n",
       "      <td>1</td>\n",
       "      <td>0</td>\n",
       "      <td>113803</td>\n",
       "      <td>53.1000</td>\n",
       "      <td>C123</td>\n",
       "      <td>S</td>\n",
       "    </tr>\n",
       "    <tr>\n",
       "      <th>4</th>\n",
       "      <td>5</td>\n",
       "      <td>0</td>\n",
       "      <td>3</td>\n",
       "      <td>Allen, Mr. William Henry</td>\n",
       "      <td>male</td>\n",
       "      <td>35.0</td>\n",
       "      <td>0</td>\n",
       "      <td>0</td>\n",
       "      <td>373450</td>\n",
       "      <td>8.0500</td>\n",
       "      <td>NaN</td>\n",
       "      <td>S</td>\n",
       "    </tr>\n",
       "  </tbody>\n",
       "</table>\n",
       "</div>"
      ],
      "text/plain": [
       "   PassengerId  Survived  Pclass  \\\n",
       "0            1         0       3   \n",
       "1            2         1       1   \n",
       "2            3         1       3   \n",
       "3            4         1       1   \n",
       "4            5         0       3   \n",
       "\n",
       "                                                Name     Sex   Age  SibSp  \\\n",
       "0                            Braund, Mr. Owen Harris    male  22.0      1   \n",
       "1  Cumings, Mrs. John Bradley (Florence Briggs Th...  female  38.0      1   \n",
       "2                             Heikkinen, Miss. Laina  female  26.0      0   \n",
       "3       Futrelle, Mrs. Jacques Heath (Lily May Peel)  female  35.0      1   \n",
       "4                           Allen, Mr. William Henry    male  35.0      0   \n",
       "\n",
       "   Parch            Ticket     Fare Cabin Embarked  \n",
       "0      0         A/5 21171   7.2500   NaN        S  \n",
       "1      0          PC 17599  71.2833   C85        C  \n",
       "2      0  STON/O2. 3101282   7.9250   NaN        S  \n",
       "3      0            113803  53.1000  C123        S  \n",
       "4      0            373450   8.0500   NaN        S  "
      ]
     },
     "execution_count": 19,
     "metadata": {},
     "output_type": "execute_result"
    }
   ],
   "source": [
    "# First 5 data\n",
    "train_dataset.head()"
   ]
  },
  {
   "cell_type": "code",
   "execution_count": 20,
   "metadata": {},
   "outputs": [
    {
     "name": "stdout",
     "output_type": "stream",
     "text": [
      "Number of all passengers: 891\n",
      "Number of male passengers: 577\n",
      "Number of female passengers: 314\n",
      "Number of adult male passengers: 537\n",
      "Number of adult female passengers: 271\n",
      "Number of kid passengers: 83\n"
     ]
    }
   ],
   "source": [
    "male_passenger = train_dataset[train_dataset['Sex']== 'male']\n",
    "female_passenger = train_dataset[train_dataset['Sex']== 'female']\n",
    "\n",
    "# Kid passengers' dataframe. I accepted under of 16 years old as kid.\n",
    "kid_passenger = train_dataset[train_dataset['Age'] < 16]\n",
    "male_kid_passenger = kid_passenger[kid_passenger['Sex'] == 'male']\n",
    "female_kid_passenger = kid_passenger[kid_passenger['Sex'] == 'female']\n",
    "\n",
    "# Creating adult male and female dataframes by dropping kid passengers\n",
    "adult_male_passenger = male_passenger.drop(male_kid_passenger.index[:])\n",
    "adult_female_passenger = female_passenger.drop(female_kid_passenger.index[:])\n",
    "\n",
    "# Number of passengers according to sex and age\n",
    "print ('Number of all passengers:', len(train_dataset))\n",
    "print ('Number of male passengers:', len(male_passenger))\n",
    "print ('Number of female passengers:', len(female_passenger))\n",
    "print ('Number of adult male passengers:', len(adult_male_passenger))\n",
    "print ('Number of adult female passengers:', len(adult_female_passenger))\n",
    "print ('Number of kid passengers:', len(kid_passenger))"
   ]
  },
  {
   "cell_type": "code",
   "execution_count": 21,
   "metadata": {},
   "outputs": [
    {
     "data": {
      "image/png": "[encoded data removed]",
      "text/plain": [
       "<Figure size 640x480 with 1 Axes>"
      ]
     },
     "metadata": {},
     "output_type": "display_data"
    },
    {
     "name": "stdout",
     "output_type": "stream",
     "text": [
      "      Sex  Survived\n",
      "0  female  0.742038\n",
      "1    male  0.188908\n"
     ]
    }
   ],
   "source": [
    "# Visualition of Sex\n",
    "\n",
    "# Visualization of percentages of passengers by sex on pie chart\n",
    "x = [len(male_passenger), len(female_passenger)]\n",
    "label = ['Male', 'Female']\n",
    "plt.pie(x, labels = label, autopct = '%1.01f%%')\n",
    "plt.title('Distribution of passengers by sex')\n",
    "plt.show()\n",
    "\n",
    "print (train_dataset[[\"Sex\", \"Survived\"]].groupby(['Sex'], as_index=False).mean())"
   ]
  },
  {
   "cell_type": "code",
   "execution_count": 22,
   "metadata": {},
   "outputs": [
    {
     "data": {
      "image/png": "[encoded data removed]",
      "text/plain": [
       "<Figure size 640x480 with 1 Axes>"
      ]
     },
     "metadata": {},
     "output_type": "display_data"
    },
    {
     "name": "stdout",
     "output_type": "stream",
     "text": [
      "Average age of adult male passengers: 33.17312348668281\n",
      "Average age of adult female passengers: 32.0\n",
      "Average age of kid passengers: 6.369518072289157\n"
     ]
    }
   ],
   "source": [
    "# Visualization of Age\n",
    "\n",
    "# We can also diversify age groups by defining a function:\n",
    "def age_distribution(x):\n",
    "    if x>=0 and x <16:\n",
    "        return 'Child'\n",
    "    elif x>=16 and x<=24:\n",
    "        return 'Young'\n",
    "    else:\n",
    "        return 'Adult'\n",
    "    \n",
    "train_dataset['Age'].apply(age_distribution).value_counts()\n",
    "\n",
    "# Visualization of percentages of passengers by age\n",
    "train_dataset['Age'].apply(age_distribution).value_counts().plot(kind='pie', autopct='%1.0f%%')\n",
    "plt.title('Distribution of passengers by age')\n",
    "plt.show()\n",
    "\n",
    "print ('Average age of adult male passengers:', adult_male_passenger['Age'].mean())\n",
    "print ('Average age of adult female passengers:', adult_female_passenger['Age'].mean())\n",
    "print ('Average age of kid passengers:', kid_passenger['Age'].mean())"
   ]
  },
  {
   "cell_type": "code",
   "execution_count": 23,
   "metadata": {},
   "outputs": [
    {
     "name": "stdout",
     "output_type": "stream",
     "text": [
      "   Pclass  Survived\n",
      "0       1  0.629630\n",
      "1       2  0.472826\n",
      "2       3  0.242363\n"
     ]
    },
    {
     "data": {
      "image/png": "[encoded data removed]",
      "text/plain": [
       "<Figure size 1600x400 with 1 Axes>"
      ]
     },
     "metadata": {},
     "output_type": "display_data"
    }
   ],
   "source": [
    "# Pclass\n",
    "\n",
    "# Number of passengers according to class\n",
    "# Pclass: A proxy for socio-economic status 1st = Upper 2nd = Middle, 3rd = Lower)\n",
    "train_dataset['Pclass'].value_counts()\n",
    "\n",
    "# there is no missing value on this feature\n",
    "print (train_dataset[['Pclass', 'Survived']].groupby(['Pclass'], as_index=False).mean())\n",
    "\n",
    "train_dataset['Pclass'].value_counts().plot(kind='barh', color='green', figsize=[16,4])\n",
    "plt.xlabel('Frequency')\n",
    "plt.ylabel('Passenger class')\n",
    "plt.show()"
   ]
  },
  {
   "cell_type": "code",
   "execution_count": 24,
   "metadata": {},
   "outputs": [
    {
     "data": {
      "image/png": "[encoded data removed]",
      "text/plain": [
       "<Figure size 640x480 with 1 Axes>"
      ]
     },
     "metadata": {},
     "output_type": "display_data"
    }
   ],
   "source": [
    "# Visualition of Embarked\n",
    "\n",
    "# Filling the two missing values in 'Embarked' with the most occurred value, which is \"S\"\n",
    "train_dataset['Embarked'] = train_dataset['Embarked'].fillna('S')\n",
    "# Visualization of number of passengers by embarking ports \n",
    "train_dataset['Embarked'].value_counts().plot(kind='bar')\n",
    "plt.title('Embarking ports')\n",
    "plt.ylabel('Frequency')\n",
    "plt.xlabel('S=Southampton, C=Cherbourg, Q=Queenstown')\n",
    "plt.show()"
   ]
  },
  {
   "cell_type": "code",
   "execution_count": 25,
   "metadata": {},
   "outputs": [
    {
     "data": {
      "image/png": "[encoded data removed]",
      "text/plain": [
       "<Figure size 640x480 with 1 Axes>"
      ]
     },
     "metadata": {},
     "output_type": "display_data"
    }
   ],
   "source": [
    "# ANALYZING OF SURVIVINGS\n",
    "\n",
    "#Number of surviveds and not-surviveds\n",
    "train_dataset['Survived'].value_counts()\n",
    "train_dataset['Survived'].value_counts().plot(kind='bar', title='Surviving')\n",
    "plt.xlabel('0= Not-survived  1= Survived')\n",
    "plt.ylabel('Frequency')\n",
    "plt.show()"
   ]
  },
  {
   "cell_type": "code",
   "execution_count": 26,
   "metadata": {},
   "outputs": [
    {
     "data": {
      "image/png": "[encoded data removed]",
      "text/plain": [
       "<Figure size 640x480 with 1 Axes>"
      ]
     },
     "metadata": {},
     "output_type": "display_data"
    },
    {
     "data": {
      "image/png": "[encoded data removed]",
      "text/plain": [
       "<Figure size 640x480 with 1 Axes>"
      ]
     },
     "metadata": {},
     "output_type": "display_data"
    }
   ],
   "source": [
    "# Number of survivings by sex\n",
    "train_dataset.groupby('Sex')['Survived'].value_counts()\n",
    "\n",
    "# Visualization of survivings by sex\n",
    "train_dataset.groupby('Sex')['Survived'].value_counts().plot(kind='bar', stacked=True, colormap='winter')\n",
    "plt.show()\n",
    "\n",
    "# Better visualization of survivings by sex\n",
    "sex_survived = train_dataset.groupby(['Sex', 'Survived'])\n",
    "sex_survived.size().unstack().plot(kind='bar', stacked=True, colormap='winter')\n",
    "plt.ylabel('Frequency')\n",
    "plt.title('Survivings by sex')\n",
    "plt.show()"
   ]
  },
  {
   "cell_type": "code",
   "execution_count": 27,
   "metadata": {},
   "outputs": [
    {
     "data": {
      "text/plain": [
       "Pclass  Survived\n",
       "1       0            80\n",
       "        1           136\n",
       "2       0            97\n",
       "        1            87\n",
       "3       0           372\n",
       "        1           119\n",
       "dtype: int64"
      ]
     },
     "execution_count": 27,
     "metadata": {},
     "output_type": "execute_result"
    }
   ],
   "source": [
    "# Usage of size(),unstack() while examining survivings by passenger class\n",
    "class_survived = train_dataset.groupby(['Pclass', 'Survived'])\n",
    "# size() - to count number of rows in each grouping\n",
    "class_survived.size()"
   ]
  },
  {
   "cell_type": "code",
   "execution_count": 28,
   "metadata": {},
   "outputs": [
    {
     "data": {
      "text/html": [
       "<div>\n",
       "<style scoped>\n",
       "    .dataframe tbody tr th:only-of-type {\n",
       "        vertical-align: middle;\n",
       "    }\n",
       "\n",
       "    .dataframe tbody tr th {\n",
       "        vertical-align: top;\n",
       "    }\n",
       "\n",
       "    .dataframe thead th {\n",
       "        text-align: right;\n",
       "    }\n",
       "</style>\n",
       "<table border=\"1\" class=\"dataframe\">\n",
       "  <thead>\n",
       "    <tr style=\"text-align: right;\">\n",
       "      <th>Survived</th>\n",
       "      <th>0</th>\n",
       "      <th>1</th>\n",
       "    </tr>\n",
       "    <tr>\n",
       "      <th>Pclass</th>\n",
       "      <th></th>\n",
       "      <th></th>\n",
       "    </tr>\n",
       "  </thead>\n",
       "  <tbody>\n",
       "    <tr>\n",
       "      <th>1</th>\n",
       "      <td>80</td>\n",
       "      <td>136</td>\n",
       "    </tr>\n",
       "    <tr>\n",
       "      <th>2</th>\n",
       "      <td>97</td>\n",
       "      <td>87</td>\n",
       "    </tr>\n",
       "    <tr>\n",
       "      <th>3</th>\n",
       "      <td>372</td>\n",
       "      <td>119</td>\n",
       "    </tr>\n",
       "  </tbody>\n",
       "</table>\n",
       "</div>"
      ],
      "text/plain": [
       "Survived    0    1\n",
       "Pclass            \n",
       "1          80  136\n",
       "2          97   87\n",
       "3         372  119"
      ]
     },
     "execution_count": 28,
     "metadata": {},
     "output_type": "execute_result"
    }
   ],
   "source": [
    "# unstack() - to convert results into a more readable format.\n",
    "class_survived.size().unstack()"
   ]
  },
  {
   "cell_type": "code",
   "execution_count": 29,
   "metadata": {},
   "outputs": [
    {
     "data": {
      "image/png": "[encoded data removed]",
      "text/plain": [
       "<Figure size 640x480 with 1 Axes>"
      ]
     },
     "metadata": {},
     "output_type": "display_data"
    }
   ],
   "source": [
    "# Visualization of survivings by passenger class\n",
    "class_survived.size().unstack().plot(kind='bar', stacked=True, colormap='autumn')\n",
    "plt.xlabel('1st = Upper,   2nd = Middle,   3rd = Lower')\n",
    "plt.ylabel('Frequency')\n",
    "plt.title('Survivings by passenger class')\n",
    "plt.show()"
   ]
  },
  {
   "cell_type": "code",
   "execution_count": 30,
   "metadata": {},
   "outputs": [
    {
     "name": "stdout",
     "output_type": "stream",
     "text": [
      "Surviving numbers of male passengers by passenger class:  Survived    0   1\n",
      "Pclass           \n",
      "1          77  45\n",
      "2          91  17\n",
      "3         300  47\n",
      "Surviving numbers of female passengers by passenger class: Survived   0   1\n",
      "Pclass          \n",
      "1          3  91\n",
      "2          6  70\n",
      "3         72  72\n"
     ]
    },
    {
     "data": {
      "image/png": "[encoded data removed]",
      "text/plain": [
       "<Figure size 640x480 with 2 Axes>"
      ]
     },
     "metadata": {},
     "output_type": "display_data"
    }
   ],
   "source": [
    "# Numbers of survived/not survived passengers by sex and passenger class\n",
    "print ('Surviving numbers of male passengers by passenger class: ',\n",
    "male_passenger.groupby(['Pclass', 'Survived']).size().unstack())\n",
    "\n",
    "print ('Surviving numbers of female passengers by passenger class:',\n",
    "female_passenger.groupby(['Pclass', 'Survived']).size().unstack())\n",
    "\n",
    "#Visualization of male and female survivings by passenger class\n",
    "fig, axes = plt.subplots(nrows=2, ncols=1)\n",
    "male_passenger.groupby(['Pclass','Survived']).size().unstack().plot(kind='bar', title='Surviving of male passengers by class',\n",
    "                                                                    stacked=True, colormap='summer', ax=axes[0])\n",
    "female_passenger.groupby(['Pclass','Survived']).size().unstack().plot(kind='bar', title='Surviving of female passengers by class',\n",
    "                                                                      stacked=True, colormap='summer', ax=axes[1])\n",
    "plt.tight_layout()\n",
    "plt.show()"
   ]
  },
  {
   "cell_type": "code",
   "execution_count": 33,
   "metadata": {},
   "outputs": [
    {
     "name": "stdout",
     "output_type": "stream",
     "text": [
      "Index(['Age', 'Cabin'], dtype='object')\n",
      "Missings in the train data: \n"
     ]
    },
    {
     "data": {
      "text/plain": [
       "PassengerId      0\n",
       "Survived         0\n",
       "Pclass           0\n",
       "Name             0\n",
       "Sex              0\n",
       "Age            177\n",
       "SibSp            0\n",
       "Parch            0\n",
       "Ticket           0\n",
       "Fare             0\n",
       "Cabin          687\n",
       "Embarked         0\n",
       "dtype: int64"
      ]
     },
     "metadata": {},
     "output_type": "display_data"
    }
   ],
   "source": [
    "#Show the missing columns\n",
    "\n",
    "#List columns with missing values in training set\n",
    "print(train_dataset.columns[train_dataset.isna().any()])\n",
    "\n",
    "#Also we can show so the mÅŸssing values\n",
    "print(\"Missings in the train data: \")\n",
    "display(train_dataset.isnull().sum())"
   ]
  },
  {
   "cell_type": "code",
   "execution_count": 46,
   "metadata": {},
   "outputs": [],
   "source": [
    "#train ve test data setini pandas kÃ¼tÃ¼phanesinin concat metoduyla birleÅŸtiren fonksyon\n",
    "\n",
    "def concat_df(train_dataset):\n",
    "    return pd.concat([train_dataset, ], sort= True).reset_index(drop=True)"
   ]
  },
  {
   "cell_type": "code",
   "execution_count": 47,
   "metadata": {},
   "outputs": [],
   "source": [
    "#EÄŸitim verilerinde yaÅŸ, kabin ve baÅŸlangÄ±Ã§lar sÃ¼tununda eksiklerimiz var.\n",
    "#Test veri setinde yaÅŸ, Ã¼cret ve kabin sÃ¼tununda eksiklikler var. \n",
    "#Her iki veri setini birleÅŸtireceÄŸiz ve tÃ¼m veri seti iÃ§in veri temizliÄŸini gerÃ§ekleÅŸtireceÄŸiz.\n",
    "#train ve test \n",
    "\n",
    "df_all = concat_df(train_dataset )\n"
   ]
  },
  {
   "cell_type": "code",
   "execution_count": 48,
   "metadata": {},
   "outputs": [
    {
     "name": "stdout",
     "output_type": "stream",
     "text": [
      "Missings for Age in the entire data set: 177\n",
      "Missings in percentage: 20.0\n",
      "Median for Age seperated by Pclass: \n"
     ]
    },
    {
     "data": {
      "text/plain": [
       "Pclass\n",
       "1    37.0\n",
       "2    29.0\n",
       "3    24.0\n",
       "Name: Age, dtype: float64"
      ]
     },
     "metadata": {},
     "output_type": "display_data"
    },
    {
     "name": "stdout",
     "output_type": "stream",
     "text": [
      "Median for Age seperated by Pclass and Sex:\n"
     ]
    },
    {
     "data": {
      "text/plain": [
       "Pclass  Sex   \n",
       "1       female    35.0\n",
       "        male      40.0\n",
       "2       female    28.0\n",
       "        male      30.0\n",
       "3       female    21.5\n",
       "        male      25.0\n",
       "Name: Age, dtype: float64"
      ]
     },
     "metadata": {},
     "output_type": "display_data"
    },
    {
     "name": "stdout",
     "output_type": "stream",
     "text": [
      "Number of cases:\n"
     ]
    },
    {
     "data": {
      "text/plain": [
       "Pclass  Sex   \n",
       "1       female     85\n",
       "        male      101\n",
       "2       female     74\n",
       "        male       99\n",
       "3       female    102\n",
       "        male      253\n",
       "Name: Age, dtype: int64"
      ]
     },
     "metadata": {},
     "output_type": "display_data"
    }
   ],
   "source": [
    "#1-Age\n",
    "\n",
    "#yaÅŸ sÃ¼tÃ¼numuzun yÃ¼zdelik olarak ne kadar eksik verisi olduÄŸunu gÃ¶rmek iÃ§in\n",
    "print(\"Missings for Age in the entire data set: \" + str(df_all['Age'].isnull().sum()))\n",
    "print(\"Missings in percentage: \" + str(round(df_all['Age'].isnull().sum()/len(df_all)*100,0)))\n",
    "\n",
    "#yaÅŸ veri setimizin iÃ§inde deÄŸerlendirmeye devam ediyoruz\n",
    "      \n",
    "print('Median for Age seperated by Pclass: ')    \n",
    "display(train_dataset.groupby('Pclass')['Age'].median())      \n",
    "print('Median for Age seperated by Pclass and Sex:')    \n",
    "display(train_dataset.groupby(['Pclass','Sex'])['Age'].median()) \n",
    "print('Number of cases:')    \n",
    "display(train_dataset.groupby(['Pclass','Sex'])['Age'].count()) \n",
    "      \n",
    "#replace the missings values with the medians of each group\n",
    "df_all['Age']= df_all.groupby(['Pclass','Sex'])['Age'].apply(lambda x:x.fillna(x.median()))\n"
   ]
  },
  {
   "cell_type": "code",
   "execution_count": 49,
   "metadata": {},
   "outputs": [
    {
     "name": "stdout",
     "output_type": "stream",
     "text": [
      "7.925\n"
     ]
    }
   ],
   "source": [
    "#2-Ãœcret  \n",
    "\n",
    "df_all.loc[df_all['Fare'].isnull()]   \n",
    "      \n",
    "#TÃ¼m veri setinde tek bir eksik Ã¼cret deÄŸerimiz var. Bay Thomas      \n",
    "      \n",
    "#loc cases which are similar to Mr.Thomas and use the median of fare to replace  the missing for his data set\n",
    "      \n",
    "mr_thomas=df_all.loc[(df_all['Pclass']==3)&(df_all['SibSp']==0)&(df_all['Embarked']=='S')]['Fare'].median()\n",
    "print(mr_thomas)\n",
    "      \n"
   ]
  },
  {
   "cell_type": "code",
   "execution_count": 50,
   "metadata": {},
   "outputs": [
    {
     "data": {
      "text/plain": [
       "array([nan, 'C85', 'C123', 'E46', 'G6', 'C103', 'D56', 'A6',\n",
       "       'C23 C25 C27', 'B78', 'D33', 'B30', 'C52', 'B28', 'C83', 'F33',\n",
       "       'F G73', 'E31', 'A5', 'D10 D12', 'D26', 'C110', 'B58 B60', 'E101',\n",
       "       'F E69', 'D47', 'B86', 'F2', 'C2', 'E33', 'B19', 'A7', 'C49', 'F4',\n",
       "       'A32', 'B4', 'B80', 'A31', 'D36', 'D15', 'C93', 'C78', 'D35',\n",
       "       'C87', 'B77', 'E67', 'B94', 'C125', 'C99', 'C118', 'D7', 'A19',\n",
       "       'B49', 'D', 'C22 C26', 'C106', 'C65', 'E36', 'C54',\n",
       "       'B57 B59 B63 B66', 'C7', 'E34', 'C32', 'B18', 'C124', 'C91', 'E40',\n",
       "       'T', 'C128', 'D37', 'B35', 'E50', 'C82', 'B96 B98', 'E10', 'E44',\n",
       "       'A34', 'C104', 'C111', 'C92', 'E38', 'D21', 'E12', 'E63', 'A14',\n",
       "       'B37', 'C30', 'D20', 'B79', 'E25', 'D46', 'B73', 'C95', 'B38',\n",
       "       'B39', 'B22', 'C86', 'C70', 'A16', 'C101', 'C68', 'A10', 'E68',\n",
       "       'B41', 'A20', 'D19', 'D50', 'D9', 'A23', 'B50', 'A26', 'D48',\n",
       "       'E58', 'C126', 'B71', 'B51 B53 B55', 'D49', 'B5', 'B20', 'F G63',\n",
       "       'C62 C64', 'E24', 'C90', 'C45', 'E8', 'B101', 'D45', 'C46', 'D30',\n",
       "       'E121', 'D11', 'E77', 'F38', 'B3', 'D6', 'B82 B84', 'D17', 'A36',\n",
       "       'B102', 'B69', 'E49', 'C47', 'D28', 'E17', 'A24', 'C50', 'B42',\n",
       "       'C148'], dtype=object)"
      ]
     },
     "metadata": {},
     "output_type": "display_data"
    },
    {
     "name": "stdout",
     "output_type": "stream",
     "text": [
      "There are 147 different values for Cabin and 687 cases are missing.\n"
     ]
    },
    {
     "data": {
      "text/plain": [
       "M      687\n",
       "ABC    122\n",
       "DE      65\n",
       "FG      17\n",
       "Name: Deck, dtype: int64"
      ]
     },
     "execution_count": 50,
     "metadata": {},
     "output_type": "execute_result"
    },
    {
     "data": {
      "image/png": "[encoded data removed]",
      "text/plain": [
       "<Figure size 1500x700 with 1 Axes>"
      ]
     },
     "metadata": {},
     "output_type": "display_data"
    }
   ],
   "source": [
    "#3-Kabin\n",
    "      \n",
    "display(train_dataset['Cabin'].unique())\n",
    "print(\"There are \"+ str(train_dataset['Cabin'].nunique()) + \" different values for Cabin and \" + str(train_dataset['Cabin'].isnull().sum()) + \" cases are missing.\")\n",
    "\n",
    "#keep all first letters of cabin in a new variable and use \"M\" for each missing\n",
    "df_all['Deck'] = df_all['Cabin'].apply(lambda s: s[0] if pd.notnull(s) else 'M' )\n",
    "      \n",
    "df_all[['Deck','Survived']].groupby('Deck')['Survived'].mean().plot(kind='bar',figsize=(15,7))\n",
    "plt.suptitle('Survival rates for diffrent cabins')\n",
    "            \n",
    "#Hayatta kalma oranlarÄ±nda Ã¶nemli farklÄ±lÄ±klar var Ã§Ã¼nkÃ¼ Ã¼st gÃ¼vertelerdeki konuklar filikalarda daha hÄ±zlÄ±ydÄ±.\n",
    "#BazÄ± desteleri gruplayacaÄŸÄ±z.      \n",
    "      \n",
    "      \n",
    "idx=df_all[df_all['Deck'] == 'T'].index\n",
    "df_all.loc[idx,'Deck'] = 'A'   \n",
    "df_all['Deck']= df_all['Deck'].replace(['A','B','C'],'ABC')\n",
    "df_all['Deck']= df_all['Deck'].replace(['D','E'],'DE')\n",
    "df_all['Deck']= df_all['Deck'].replace(['F','G'],'FG')      \n",
    "df_all['Deck'].value_counts()"
   ]
  },
  {
   "cell_type": "code",
   "execution_count": 51,
   "metadata": {},
   "outputs": [
    {
     "name": "stdout",
     "output_type": "stream",
     "text": [
      "Missing in the data:\n"
     ]
    },
    {
     "data": {
      "text/plain": [
       "Age              0\n",
       "Cabin          687\n",
       "Embarked         0\n",
       "Fare             0\n",
       "Name             0\n",
       "Parch            0\n",
       "PassengerId      0\n",
       "Pclass           0\n",
       "Sex              0\n",
       "SibSp            0\n",
       "Survived         0\n",
       "Ticket           0\n",
       "Deck             0\n",
       "dtype: int64"
      ]
     },
     "metadata": {},
     "output_type": "display_data"
    }
   ],
   "source": [
    "#4-Embarked\n",
    "      \n",
    "df_all.loc[df_all['Embarked'].isnull()]\n",
    "           \n",
    "df_all.loc[(df_all['Pclass'] == 1) & (df_all['Fare'] <= 80) & (df_all ['Deck'] == 'ABC')]['Embarked'].value_counts()\n",
    "\n",
    "#BaÅŸlamak iÃ§in sadece iki eksik var.\n",
    "#Ãœcret davasÄ± iÃ§in zaten denediÄŸimiz gibi, eksik deÄŸeri deÄŸiÅŸtirmek iÃ§in benzer durumlara bakabiliriz.\n",
    "      \n",
    "df_all.loc[df_all['Embarked'].isnull(),'Embarked'] = 'S'\n",
    "           \n",
    "print(\"Missing in the data:\")\n",
    "display(df_all.isnull().sum())"
   ]
  },
  {
   "cell_type": "code",
   "execution_count": 54,
   "metadata": {},
   "outputs": [
    {
     "data": {
      "text/plain": [
       "Text(0.5, 0.98, 'Survival rates for family size categories')"
      ]
     },
     "execution_count": 54,
     "metadata": {},
     "output_type": "execute_result"
    },
    {
     "data": {
      "image/png": "[encoded data removed]",
      "text/plain": [
       "<Figure size 1500x700 with 1 Axes>"
      ]
     },
     "metadata": {},
     "output_type": "display_data"
    }
   ],
   "source": [
    "#5-Sibs and Parch\n",
    "\n",
    "#Veri setimizde bize aile bÃ¼yÃ¼klÃ¼ÄŸÃ¼ hakkÄ±nda bir ÅŸeyler sÃ¶yleyen iki ilginÃ§ deÄŸiÅŸken var. \n",
    "#SibSp, bir yolcunun kaÃ§ tane kardeÅŸi ve eÅŸi olduÄŸunu tanÄ±mlar ve kaÃ§ tane ebeveyn ve Ã§ocuk parch. \n",
    "#Bu deÄŸiÅŸkenleri Ã¶zetleyebilir ve aile boyutunu elde etmek iÃ§in 1 ekleyebiliriz (her yoldan geÃ§en iÃ§in).     \n",
    "      \n",
    "df_all['Family_Size'] = df_all['SibSp'] + df_all['Parch'] + 1\n",
    "df_all['Family_Size'].hist(figsize=(15,7))\n",
    "      \n",
    "df_all['Family_Size_bin']=df_all['Family_Size'].map(lambda s: 1 if s == 1 else (2 if s == 2 else (3 if 3 <= s <= 4 else (4 if s >= 5 else 0))))\n",
    "\n",
    "df_all['Family_Size_bin'].value_counts()\n",
    "\n",
    "#Bir tez, ailelerin hayatta kalma ÅŸansÄ±nÄ±n bekarlara gÃ¶re daha yÃ¼ksek olduÄŸu, Ã§Ã¼nkÃ¼ kendilerini daha iyi destekleyebildikleri ve Ã¶ncelikli olarak kurtarÄ±ldÄ±klarÄ±dÄ±r.\n",
    "# Bununla birlikte, aileler Ã§ok bÃ¼yÃ¼kse, istisnai bir durumda koordinasyon muhtemelen Ã§ok zor olacaktÄ±r.\n",
    "\n",
    "df_all[['Family_Size_bin','Survived']].groupby('Family_Size_bin')['Survived'].mean().plot(kind='bar' , figsize=(15,7))\n",
    "plt.suptitle('Survival rates for family size categories')\n"
   ]
  },
  {
   "cell_type": "code",
   "execution_count": 55,
   "metadata": {},
   "outputs": [
    {
     "data": {
      "text/html": [
       "<div>\n",
       "<style scoped>\n",
       "    .dataframe tbody tr th:only-of-type {\n",
       "        vertical-align: middle;\n",
       "    }\n",
       "\n",
       "    .dataframe tbody tr th {\n",
       "        vertical-align: top;\n",
       "    }\n",
       "\n",
       "    .dataframe thead th {\n",
       "        text-align: right;\n",
       "    }\n",
       "</style>\n",
       "<table border=\"1\" class=\"dataframe\">\n",
       "  <thead>\n",
       "    <tr style=\"text-align: right;\">\n",
       "      <th></th>\n",
       "      <th>Survived</th>\n",
       "    </tr>\n",
       "    <tr>\n",
       "      <th>Ticket_Frequency</th>\n",
       "      <th></th>\n",
       "    </tr>\n",
       "  </thead>\n",
       "  <tbody>\n",
       "    <tr>\n",
       "      <th>1</th>\n",
       "      <td>0.297989</td>\n",
       "    </tr>\n",
       "    <tr>\n",
       "      <th>2</th>\n",
       "      <td>0.574468</td>\n",
       "    </tr>\n",
       "    <tr>\n",
       "      <th>3</th>\n",
       "      <td>0.698413</td>\n",
       "    </tr>\n",
       "    <tr>\n",
       "      <th>4</th>\n",
       "      <td>0.500000</td>\n",
       "    </tr>\n",
       "    <tr>\n",
       "      <th>5</th>\n",
       "      <td>0.000000</td>\n",
       "    </tr>\n",
       "    <tr>\n",
       "      <th>6</th>\n",
       "      <td>0.000000</td>\n",
       "    </tr>\n",
       "    <tr>\n",
       "      <th>7</th>\n",
       "      <td>0.238095</td>\n",
       "    </tr>\n",
       "  </tbody>\n",
       "</table>\n",
       "</div>"
      ],
      "text/plain": [
       "                  Survived\n",
       "Ticket_Frequency          \n",
       "1                 0.297989\n",
       "2                 0.574468\n",
       "3                 0.698413\n",
       "4                 0.500000\n",
       "5                 0.000000\n",
       "6                 0.000000\n",
       "7                 0.238095"
      ]
     },
     "execution_count": 55,
     "metadata": {},
     "output_type": "execute_result"
    }
   ],
   "source": [
    "#6-Tickets\n",
    "df_all['Ticket_Frequency'] = df_all.groupby('Ticket')['Ticket'].transform('count')\n",
    "\n",
    "#Bilet sÄ±klÄ±klarÄ± ile hayatta kalma oranlarÄ± arasÄ±nda bir korelasyon bekliyoruz, Ã§Ã¼nkÃ¼ aynÄ± bilet numaralarÄ±, insanlarÄ±n birlikte seyahat ettiklerinin bir gÃ¶stergesi.\n",
    "df_all[['Ticket_Frequency','Survived']].groupby('Ticket_Frequency').mean()\n"
   ]
  },
  {
   "cell_type": "code",
   "execution_count": 56,
   "metadata": {},
   "outputs": [
    {
     "name": "stderr",
     "output_type": "stream",
     "text": [
      "C:\\Users\\91770\\AppData\\Local\\Temp\\ipykernel_5468\\769720951.py:8: SettingWithCopyWarning: \n",
      "A value is trying to be set on a copy of a slice from a DataFrame\n",
      "\n",
      "See the caveats in the documentation: https://pandas.pydata.org/pandas-docs/stable/user_guide/indexing.html#returning-a-view-versus-a-copy\n",
      "  df_all['Is_Married'].loc[df_all['Title'] == 'Mrs'] =1\n"
     ]
    },
    {
     "data": {
      "text/plain": [
       "Title\n",
       " Master     40\n",
       " Miss      182\n",
       " Mr        517\n",
       " Mrs       125\n",
       "Misc        27\n",
       "Name: Title, dtype: int64"
      ]
     },
     "execution_count": 56,
     "metadata": {},
     "output_type": "execute_result"
    }
   ],
   "source": [
    "#7-Title\n",
    "\n",
    "#Ä°sim bize bir yolcunun sosyoekonomik durumu hakkÄ±nda Ã§ok Ã¶nemli bilgiler veriyor. \n",
    "#Birinin evli olup olmadÄ±ÄŸÄ± veya daha yÃ¼ksek bir sosyal statÃ¼nÃ¼n gÃ¶stergesi olabilecek resmi bir unvanÄ± olup olmadÄ±ÄŸÄ± sorusuna cevap verebiliriz.\n",
    "\n",
    "df_all['Title'] = df_all['Name'].str.split(',', expand=True)[1].str.split('.',expand=True)[0]\n",
    "df_all['Is_Married'] = 0\n",
    "df_all['Is_Married'].loc[df_all['Title'] == 'Mrs'] =1\n",
    "df_all['Title'].nunique()\n",
    "#Veri setimizde pek Ã§ok farklÄ± baÅŸlÄ±k var.\n",
    "# YalnÄ±zca 10'dan fazla davaya sahip baÅŸlÄ±ÄŸÄ± dikkate alÄ±yoruz, diÄŸerlerinin tÃ¼mÃ¼nÃ¼ \"misc\" kategorisine atayacaÄŸÄ±z.\n",
    "title_names = (df_all['Title'].value_counts() < 10)\n",
    "df_all['Title'] = df_all['Title'].apply(lambda x: 'Misc' if title_names.loc[x] == True else x)\n",
    "df_all.groupby('Title')['Title'].count()\n",
    "                "
   ]
  },
  {
   "cell_type": "code",
   "execution_count": 57,
   "metadata": {},
   "outputs": [
    {
     "data": {
      "text/plain": [
       "667"
      ]
     },
     "execution_count": 57,
     "metadata": {},
     "output_type": "execute_result"
    }
   ],
   "source": [
    "#YolcularÄ±n soyadlarÄ±nÄ± belirleyeceÄŸiz. \n",
    "#Daha sonra hem eÄŸitimde hem de test veri setinde bulunan herhangi bir aile Ã¼yesi olup olmadÄ±ÄŸÄ±nÄ± gÃ¶rebiliriz.\n",
    "import string\n",
    "\n",
    "def extract_surname(data):\n",
    "    families=[]\n",
    "    for i in range(len(data)):\n",
    "        name = data.iloc[i]\n",
    "        if '(' in name:\n",
    "            name_no_bracket = name.split('(')[0]\n",
    "        else:\n",
    "            name_no_bracket = name\n",
    "        family = name_no_bracket.split(',')[0] \n",
    "        title = name_no_bracket.split(',')[1].strip().split(' ')[0]\n",
    "        for c in string.punctuation:\n",
    "            family = family.replace(c, '').strip()\n",
    "        families.append(family)\n",
    "        \n",
    "    return families\n",
    "df_all['Family'] = extract_surname(df_all['Name'])\n",
    "\n",
    "df_all['Family'].nunique()\n"
   ]
  },
  {
   "cell_type": "code",
   "execution_count": 58,
   "metadata": {},
   "outputs": [
    {
     "name": "stdout",
     "output_type": "stream",
     "text": [
      "Survival rates grouped by families of women in dataset:\n"
     ]
    },
    {
     "name": "stderr",
     "output_type": "stream",
     "text": [
      "C:\\Users\\91770\\AppData\\Local\\Temp\\ipykernel_5468\\3327497193.py:19: FutureWarning: The series.append method is deprecated and will be removed from pandas in a future version. Use pandas.concat instead.\n",
      "  combined_rate = women_rate.append(master_rate)\n"
     ]
    },
    {
     "data": {
      "image/png": "[encoded data removed]",
      "text/plain": [
       "<Figure size 1200x500 with 1 Axes>"
      ]
     },
     "metadata": {},
     "output_type": "display_data"
    }
   ],
   "source": [
    "#YÃ¼ksek lisans derecesine sahip kiÅŸiler ve kadÄ±nlar, Ã¶nemli Ã¶lÃ§Ã¼de daha sÄ±k hayatta kaldÄ±lar ve aynÄ± zamanda ortalama olarak daha bÃ¼yÃ¼k ailelere sahipler. \n",
    "#EÄŸitim veri setinde bir usta veya kadÄ±n hayatta kalan olarak iÅŸaretlenirse, test veri setindeki aile Ã¼yelerinin de hayatta kalacaÄŸÄ±nÄ± varsayÄ±yoruz.\n",
    "      \n",
    "df_all[['Title','Survived','Family_Size']].groupby('Title').mean()\n",
    "\n",
    "print('Survival rates grouped by families of women in dataset:')\n",
    "df_all.loc[(df_all['Sex'] == 'female') & (df_all['Family_Size'] > 1)].groupby('Family')['Survived'].mean().hist(figsize=(12,5))\n",
    "\n",
    "#Aile bÃ¼yÃ¼klÃ¼ÄŸÃ¼ 2 veya daha fazla olan kadÄ±nlarda, Ã§oÄŸu zaman hepsi veya hiÃ§biri Ã¶lmez.\n",
    "\n",
    "master_families = df_all.loc[df_all['Title'] == 'Master']['Family'].tolist()\n",
    "df_all.loc[df_all['Family'].isin(master_families)].groupby('Family')['Survived'].mean().hist(figsize=(12,5))\n",
    "\n",
    "#AynÄ±sÄ±, unvanÄ±nda kaptan olan yolcu aileleri iÃ§in de geÃ§erlidir.\n",
    "\n",
    "women_rate = df_all.loc[(df_all['Sex'] == 'female') & (df_all['Family_Size'] > 1 )].groupby('Family')['Survived'].mean()\n",
    "master_rate = df_all.loc[df_all['Family'].isin(master_families)].groupby('Family')['Survived'].mean()\n",
    "\n",
    "combined_rate = women_rate.append(master_rate)\n",
    "\n",
    "combined_rate_df = combined_rate.to_frame().reset_index().rename(columns={'Survived' : 'Survival_quota'}).drop_duplicates(subset='Family')\n",
    "\n",
    "df_all =pd.merge(df_all,combined_rate_df ,how = 'left')\n",
    "                                                                            \n",
    "                                                                            \n",
    "                                                                            \n",
    "df_all['Survival_quota_NA'] = 1\n",
    "df_all.loc[df_all['Survival_quota'].isnull(), 'Survival_quota_NA']=0                                                                            \n",
    "df_all['Survival_quota']=df_all['Survival_quota'].fillna(0)   "
   ]
  },
  {
   "cell_type": "code",
   "execution_count": 71,
   "metadata": {},
   "outputs": [
    {
     "data": {
      "text/html": [
       "<img src=\"https://static1.squarespace.com/static/5006453fe4b09ef2252ba068/t/5090b249e4b047ba54dfd258/1351660113175/TItanic-Survi\"/>"
      ],
      "text/plain": [
       "<IPython.core.display.Image object>"
      ]
     },
     "execution_count": 71,
     "metadata": {},
     "output_type": "execute_result"
    }
   ],
   "source": [
    "from IPython.display import Image\n",
    "\n",
    "Image(url=\"https://static1.squarespace.com/static/5006453fe4b09ef2252ba068/t/5090b249e4b047ba54dfd258/1351660113175/TItanic-Survi\")"
   ]
  },
  {
   "cell_type": "code",
   "execution_count": null,
   "metadata": {},
   "outputs": [],
   "source": []
  }
 ],
 "metadata": {
  "kernelspec": {
   "display_name": "Python 3 (ipykernel)",
   "language": "python",
   "name": "python3"
  },
  "language_info": {
   "codemirror_mode": {
    "name": "ipython",
    "version": 3
   },
   "file_extension": ".py",
   "mimetype": "text/x-python",
   "name": "python",
   "nbconvert_exporter": "python",
   "pygments_lexer": "ipython3",
   "version": "3.9.13"
  }
 },
 "nbformat": 4,
 "nbformat_minor": 4
}
